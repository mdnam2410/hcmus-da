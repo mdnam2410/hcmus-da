{
 "cells": [
  {
   "cell_type": "markdown",
   "metadata": {},
   "source": [
    "# Thông tin sinh viên\n",
    "* Họ tên: Mai Duy Nam\n",
    "* MSSV: 19120298"
   ]
  },
  {
   "cell_type": "markdown",
   "metadata": {},
   "source": [
    "# Import thư viện"
   ]
  },
  {
   "cell_type": "code",
   "execution_count": 1,
   "metadata": {
    "id": "SejZQQgusyOR"
   },
   "outputs": [],
   "source": [
    "import datetime as dt\n",
    "import matplotlib.pyplot as plt\n",
    "import matplotlib.dates as mdates\n",
    "import numpy as np\n",
    "import pandas as pd\n",
    "import seaborn as sns\n",
    "\n",
    "sns.set_theme(style='whitegrid', palette='colorblind')"
   ]
  },
  {
   "cell_type": "markdown",
   "metadata": {},
   "source": [
    "Giải nén file `data.csv.zip` nếu chưa có file `data.csv`."
   ]
  },
  {
   "cell_type": "code",
   "execution_count": 2,
   "metadata": {
    "colab": {
     "base_uri": "https://localhost:8080/"
    },
    "id": "Q902x09iuyMt",
    "outputId": "60824425-36df-4b03-d69c-f900acc7dbd3"
   },
   "outputs": [],
   "source": [
    "!test ! -f data.csv && unzip data.csv.zip"
   ]
  },
  {
   "cell_type": "markdown",
   "metadata": {},
   "source": [
    "# Nạp dữ liệu"
   ]
  },
  {
   "cell_type": "code",
   "execution_count": 3,
   "metadata": {
    "colab": {
     "base_uri": "https://localhost:8080/",
     "height": 206
    },
    "id": "tFd1xMqSvHL7",
    "outputId": "da17a0a0-5527-44f1-b299-41047e2f9eab"
   },
   "outputs": [
    {
     "data": {
      "text/html": [
       "<div>\n",
       "<style scoped>\n",
       "    .dataframe tbody tr th:only-of-type {\n",
       "        vertical-align: middle;\n",
       "    }\n",
       "\n",
       "    .dataframe tbody tr th {\n",
       "        vertical-align: top;\n",
       "    }\n",
       "\n",
       "    .dataframe thead th {\n",
       "        text-align: right;\n",
       "    }\n",
       "</style>\n",
       "<table border=\"1\" class=\"dataframe\">\n",
       "  <thead>\n",
       "    <tr style=\"text-align: right;\">\n",
       "      <th></th>\n",
       "      <th>Position</th>\n",
       "      <th>Track Name</th>\n",
       "      <th>Artist</th>\n",
       "      <th>Streams</th>\n",
       "      <th>URL</th>\n",
       "      <th>Date</th>\n",
       "      <th>Region</th>\n",
       "    </tr>\n",
       "  </thead>\n",
       "  <tbody>\n",
       "    <tr>\n",
       "      <th>0</th>\n",
       "      <td>1</td>\n",
       "      <td>Reggaetón Lento (Bailemos)</td>\n",
       "      <td>CNCO</td>\n",
       "      <td>19272</td>\n",
       "      <td>https://open.spotify.com/track/3AEZUABDXNtecAO...</td>\n",
       "      <td>2017-01-01</td>\n",
       "      <td>ec</td>\n",
       "    </tr>\n",
       "    <tr>\n",
       "      <th>1</th>\n",
       "      <td>2</td>\n",
       "      <td>Chantaje</td>\n",
       "      <td>Shakira</td>\n",
       "      <td>19270</td>\n",
       "      <td>https://open.spotify.com/track/6mICuAdrwEjh6Y6...</td>\n",
       "      <td>2017-01-01</td>\n",
       "      <td>ec</td>\n",
       "    </tr>\n",
       "    <tr>\n",
       "      <th>2</th>\n",
       "      <td>3</td>\n",
       "      <td>Otra Vez (feat. J Balvin)</td>\n",
       "      <td>Zion &amp; Lennox</td>\n",
       "      <td>15761</td>\n",
       "      <td>https://open.spotify.com/track/3QwBODjSEzelZyV...</td>\n",
       "      <td>2017-01-01</td>\n",
       "      <td>ec</td>\n",
       "    </tr>\n",
       "    <tr>\n",
       "      <th>3</th>\n",
       "      <td>4</td>\n",
       "      <td>Vente Pa' Ca</td>\n",
       "      <td>Ricky Martin</td>\n",
       "      <td>14954</td>\n",
       "      <td>https://open.spotify.com/track/7DM4BPaS7uofFul...</td>\n",
       "      <td>2017-01-01</td>\n",
       "      <td>ec</td>\n",
       "    </tr>\n",
       "    <tr>\n",
       "      <th>4</th>\n",
       "      <td>5</td>\n",
       "      <td>Safari</td>\n",
       "      <td>J Balvin</td>\n",
       "      <td>14269</td>\n",
       "      <td>https://open.spotify.com/track/6rQSrBHf7HlZjtc...</td>\n",
       "      <td>2017-01-01</td>\n",
       "      <td>ec</td>\n",
       "    </tr>\n",
       "  </tbody>\n",
       "</table>\n",
       "</div>"
      ],
      "text/plain": [
       "   Position                  Track Name         Artist  Streams  \\\n",
       "0         1  Reggaetón Lento (Bailemos)           CNCO    19272   \n",
       "1         2                    Chantaje        Shakira    19270   \n",
       "2         3   Otra Vez (feat. J Balvin)  Zion & Lennox    15761   \n",
       "3         4                Vente Pa' Ca   Ricky Martin    14954   \n",
       "4         5                      Safari       J Balvin    14269   \n",
       "\n",
       "                                                 URL        Date Region  \n",
       "0  https://open.spotify.com/track/3AEZUABDXNtecAO...  2017-01-01     ec  \n",
       "1  https://open.spotify.com/track/6mICuAdrwEjh6Y6...  2017-01-01     ec  \n",
       "2  https://open.spotify.com/track/3QwBODjSEzelZyV...  2017-01-01     ec  \n",
       "3  https://open.spotify.com/track/7DM4BPaS7uofFul...  2017-01-01     ec  \n",
       "4  https://open.spotify.com/track/6rQSrBHf7HlZjtc...  2017-01-01     ec  "
      ]
     },
     "execution_count": 3,
     "metadata": {},
     "output_type": "execute_result"
    }
   ],
   "source": [
    "data_df = pd.read_csv('data.csv')\n",
    "data_df.head()"
   ]
  },
  {
   "cell_type": "code",
   "execution_count": 4,
   "metadata": {
    "colab": {
     "base_uri": "https://localhost:8080/",
     "height": 409
    },
    "id": "9HWrF8vXtqwm",
    "outputId": "e1b97ae1-c22e-4f3b-a8af-64b40a98bb6a"
   },
   "outputs": [
    {
     "data": {
      "text/html": [
       "<div>\n",
       "<style scoped>\n",
       "    .dataframe tbody tr th:only-of-type {\n",
       "        vertical-align: middle;\n",
       "    }\n",
       "\n",
       "    .dataframe tbody tr th {\n",
       "        vertical-align: top;\n",
       "    }\n",
       "\n",
       "    .dataframe thead th {\n",
       "        text-align: right;\n",
       "    }\n",
       "</style>\n",
       "<table border=\"1\" class=\"dataframe\">\n",
       "  <thead>\n",
       "    <tr style=\"text-align: right;\">\n",
       "      <th></th>\n",
       "      <th>id</th>\n",
       "      <th>name</th>\n",
       "      <th>artists</th>\n",
       "      <th>danceability</th>\n",
       "      <th>energy</th>\n",
       "      <th>key</th>\n",
       "      <th>loudness</th>\n",
       "      <th>mode</th>\n",
       "      <th>speechiness</th>\n",
       "      <th>acousticness</th>\n",
       "      <th>instrumentalness</th>\n",
       "      <th>liveness</th>\n",
       "      <th>valence</th>\n",
       "      <th>tempo</th>\n",
       "      <th>duration_ms</th>\n",
       "      <th>time_signature</th>\n",
       "    </tr>\n",
       "  </thead>\n",
       "  <tbody>\n",
       "    <tr>\n",
       "      <th>0</th>\n",
       "      <td>7qiZfU4dY1lWllzX7mPBI</td>\n",
       "      <td>Shape of You</td>\n",
       "      <td>Ed Sheeran</td>\n",
       "      <td>0.825</td>\n",
       "      <td>0.652</td>\n",
       "      <td>1.0</td>\n",
       "      <td>-3.183</td>\n",
       "      <td>0.0</td>\n",
       "      <td>0.0802</td>\n",
       "      <td>0.5810</td>\n",
       "      <td>0.000000</td>\n",
       "      <td>0.0931</td>\n",
       "      <td>0.931</td>\n",
       "      <td>95.977</td>\n",
       "      <td>233713.0</td>\n",
       "      <td>4.0</td>\n",
       "    </tr>\n",
       "    <tr>\n",
       "      <th>1</th>\n",
       "      <td>5CtI0qwDJkDQGwXD1H1cL</td>\n",
       "      <td>Despacito - Remix</td>\n",
       "      <td>Luis Fonsi</td>\n",
       "      <td>0.694</td>\n",
       "      <td>0.815</td>\n",
       "      <td>2.0</td>\n",
       "      <td>-4.328</td>\n",
       "      <td>1.0</td>\n",
       "      <td>0.1200</td>\n",
       "      <td>0.2290</td>\n",
       "      <td>0.000000</td>\n",
       "      <td>0.0924</td>\n",
       "      <td>0.813</td>\n",
       "      <td>88.931</td>\n",
       "      <td>228827.0</td>\n",
       "      <td>4.0</td>\n",
       "    </tr>\n",
       "    <tr>\n",
       "      <th>2</th>\n",
       "      <td>4aWmUDTfIPGksMNLV2rQP</td>\n",
       "      <td>Despacito (Featuring Daddy Yankee)</td>\n",
       "      <td>Luis Fonsi</td>\n",
       "      <td>0.660</td>\n",
       "      <td>0.786</td>\n",
       "      <td>2.0</td>\n",
       "      <td>-4.757</td>\n",
       "      <td>1.0</td>\n",
       "      <td>0.1700</td>\n",
       "      <td>0.2090</td>\n",
       "      <td>0.000000</td>\n",
       "      <td>0.1120</td>\n",
       "      <td>0.846</td>\n",
       "      <td>177.833</td>\n",
       "      <td>228200.0</td>\n",
       "      <td>4.0</td>\n",
       "    </tr>\n",
       "    <tr>\n",
       "      <th>3</th>\n",
       "      <td>6RUKPb4LETWmmr3iAEQkt</td>\n",
       "      <td>Something Just Like This</td>\n",
       "      <td>The Chainsmokers</td>\n",
       "      <td>0.617</td>\n",
       "      <td>0.635</td>\n",
       "      <td>11.0</td>\n",
       "      <td>-6.769</td>\n",
       "      <td>0.0</td>\n",
       "      <td>0.0317</td>\n",
       "      <td>0.0498</td>\n",
       "      <td>0.000014</td>\n",
       "      <td>0.1640</td>\n",
       "      <td>0.446</td>\n",
       "      <td>103.019</td>\n",
       "      <td>247160.0</td>\n",
       "      <td>4.0</td>\n",
       "    </tr>\n",
       "    <tr>\n",
       "      <th>4</th>\n",
       "      <td>3DXncPQOG4VBw3QHh3S81</td>\n",
       "      <td>I'm the One</td>\n",
       "      <td>DJ Khaled</td>\n",
       "      <td>0.609</td>\n",
       "      <td>0.668</td>\n",
       "      <td>7.0</td>\n",
       "      <td>-4.284</td>\n",
       "      <td>1.0</td>\n",
       "      <td>0.0367</td>\n",
       "      <td>0.0552</td>\n",
       "      <td>0.000000</td>\n",
       "      <td>0.1670</td>\n",
       "      <td>0.811</td>\n",
       "      <td>80.924</td>\n",
       "      <td>288600.0</td>\n",
       "      <td>4.0</td>\n",
       "    </tr>\n",
       "  </tbody>\n",
       "</table>\n",
       "</div>"
      ],
      "text/plain": [
       "                      id                                name  \\\n",
       "0  7qiZfU4dY1lWllzX7mPBI                        Shape of You   \n",
       "1  5CtI0qwDJkDQGwXD1H1cL                   Despacito - Remix   \n",
       "2  4aWmUDTfIPGksMNLV2rQP  Despacito (Featuring Daddy Yankee)   \n",
       "3  6RUKPb4LETWmmr3iAEQkt            Something Just Like This   \n",
       "4  3DXncPQOG4VBw3QHh3S81                         I'm the One   \n",
       "\n",
       "            artists  danceability  energy   key  loudness  mode  speechiness  \\\n",
       "0        Ed Sheeran         0.825   0.652   1.0    -3.183   0.0       0.0802   \n",
       "1        Luis Fonsi         0.694   0.815   2.0    -4.328   1.0       0.1200   \n",
       "2        Luis Fonsi         0.660   0.786   2.0    -4.757   1.0       0.1700   \n",
       "3  The Chainsmokers         0.617   0.635  11.0    -6.769   0.0       0.0317   \n",
       "4         DJ Khaled         0.609   0.668   7.0    -4.284   1.0       0.0367   \n",
       "\n",
       "   acousticness  instrumentalness  liveness  valence    tempo  duration_ms  \\\n",
       "0        0.5810          0.000000    0.0931    0.931   95.977     233713.0   \n",
       "1        0.2290          0.000000    0.0924    0.813   88.931     228827.0   \n",
       "2        0.2090          0.000000    0.1120    0.846  177.833     228200.0   \n",
       "3        0.0498          0.000014    0.1640    0.446  103.019     247160.0   \n",
       "4        0.0552          0.000000    0.1670    0.811   80.924     288600.0   \n",
       "\n",
       "   time_signature  \n",
       "0             4.0  \n",
       "1             4.0  \n",
       "2             4.0  \n",
       "3             4.0  \n",
       "4             4.0  "
      ]
     },
     "execution_count": 4,
     "metadata": {},
     "output_type": "execute_result"
    }
   ],
   "source": [
    "features_df = pd.read_csv('featuresdf.csv')\n",
    "features_df.head()"
   ]
  },
  {
   "cell_type": "markdown",
   "metadata": {
    "id": "YmiNvQ5QyllP"
   },
   "source": [
    "# Tiền xử lý"
   ]
  },
  {
   "cell_type": "markdown",
   "metadata": {},
   "source": [
    "## `data_df`"
   ]
  },
  {
   "cell_type": "code",
   "execution_count": 5,
   "metadata": {},
   "outputs": [
    {
     "data": {
      "text/plain": [
       "(3441197, 7)"
      ]
     },
     "execution_count": 5,
     "metadata": {},
     "output_type": "execute_result"
    }
   ],
   "source": [
    "data_df.shape"
   ]
  },
  {
   "cell_type": "code",
   "execution_count": 6,
   "metadata": {
    "colab": {
     "base_uri": "https://localhost:8080/"
    },
    "id": "r8JkjYH-vXoo",
    "outputId": "95676e61-be42-4fce-bd32-b93c71bab195"
   },
   "outputs": [
    {
     "data": {
      "text/plain": [
       "Index(['Position', 'Track Name', 'Artist', 'Streams', 'URL', 'Date', 'Region'], dtype='object')"
      ]
     },
     "execution_count": 6,
     "metadata": {},
     "output_type": "execute_result"
    }
   ],
   "source": [
    "data_df.columns"
   ]
  },
  {
   "cell_type": "markdown",
   "metadata": {},
   "source": [
    "Kiểm tra và loại bỏ các cột chứa giá trị thiếu."
   ]
  },
  {
   "cell_type": "code",
   "execution_count": 7,
   "metadata": {
    "colab": {
     "base_uri": "https://localhost:8080/"
    },
    "id": "VgU91mHHvrHf",
    "outputId": "90af7821-e7de-47d5-abab-c533c0be1d30"
   },
   "outputs": [
    {
     "data": {
      "text/plain": [
       "Position        0\n",
       "Track Name    657\n",
       "Artist        657\n",
       "Streams         0\n",
       "URL             8\n",
       "Date            0\n",
       "Region          0\n",
       "dtype: int64"
      ]
     },
     "execution_count": 7,
     "metadata": {},
     "output_type": "execute_result"
    }
   ],
   "source": [
    "data_df.isna().sum()"
   ]
  },
  {
   "cell_type": "code",
   "execution_count": 8,
   "metadata": {
    "id": "lHDV3dqZvzqL"
   },
   "outputs": [],
   "source": [
    "data_df.dropna(inplace=True)"
   ]
  },
  {
   "cell_type": "markdown",
   "metadata": {},
   "source": [
    "Kiểm tra kiểu dữ liệu của các cột."
   ]
  },
  {
   "cell_type": "code",
   "execution_count": 9,
   "metadata": {},
   "outputs": [
    {
     "data": {
      "text/plain": [
       "Position       int64\n",
       "Track Name    object\n",
       "Artist        object\n",
       "Streams        int64\n",
       "URL           object\n",
       "Date          object\n",
       "Region        object\n",
       "dtype: object"
      ]
     },
     "execution_count": 9,
     "metadata": {},
     "output_type": "execute_result"
    }
   ],
   "source": [
    "data_df.dtypes"
   ]
  },
  {
   "cell_type": "markdown",
   "metadata": {},
   "source": [
    "Chuyển kiểu dữ liệu của cột `Date` từ dạng `string` về `datetime`."
   ]
  },
  {
   "cell_type": "code",
   "execution_count": 10,
   "metadata": {},
   "outputs": [],
   "source": [
    "data_df['Date'] = pd.to_datetime(data_df['Date'])"
   ]
  },
  {
   "cell_type": "markdown",
   "metadata": {},
   "source": [
    "Kiểm tra phân bố giá trị của các cột số."
   ]
  },
  {
   "cell_type": "code",
   "execution_count": 11,
   "metadata": {},
   "outputs": [
    {
     "data": {
      "text/html": [
       "<div>\n",
       "<style scoped>\n",
       "    .dataframe tbody tr th:only-of-type {\n",
       "        vertical-align: middle;\n",
       "    }\n",
       "\n",
       "    .dataframe tbody tr th {\n",
       "        vertical-align: top;\n",
       "    }\n",
       "\n",
       "    .dataframe thead th {\n",
       "        text-align: right;\n",
       "    }\n",
       "</style>\n",
       "<table border=\"1\" class=\"dataframe\">\n",
       "  <thead>\n",
       "    <tr style=\"text-align: right;\">\n",
       "      <th></th>\n",
       "      <th>Position</th>\n",
       "      <th>Streams</th>\n",
       "    </tr>\n",
       "  </thead>\n",
       "  <tbody>\n",
       "    <tr>\n",
       "      <th>count</th>\n",
       "      <td>3.440540e+06</td>\n",
       "      <td>3.440540e+06</td>\n",
       "    </tr>\n",
       "    <tr>\n",
       "      <th>mean</th>\n",
       "      <td>9.465220e+01</td>\n",
       "      <td>5.188452e+04</td>\n",
       "    </tr>\n",
       "    <tr>\n",
       "      <th>std</th>\n",
       "      <td>5.739412e+01</td>\n",
       "      <td>2.017733e+05</td>\n",
       "    </tr>\n",
       "    <tr>\n",
       "      <th>min</th>\n",
       "      <td>1.000000e+00</td>\n",
       "      <td>1.001000e+03</td>\n",
       "    </tr>\n",
       "    <tr>\n",
       "      <th>25%</th>\n",
       "      <td>4.500000e+01</td>\n",
       "      <td>3.321000e+03</td>\n",
       "    </tr>\n",
       "    <tr>\n",
       "      <th>50%</th>\n",
       "      <td>9.200000e+01</td>\n",
       "      <td>9.226000e+03</td>\n",
       "    </tr>\n",
       "    <tr>\n",
       "      <th>75%</th>\n",
       "      <td>1.430000e+02</td>\n",
       "      <td>2.965600e+04</td>\n",
       "    </tr>\n",
       "    <tr>\n",
       "      <th>max</th>\n",
       "      <td>2.000000e+02</td>\n",
       "      <td>1.138152e+07</td>\n",
       "    </tr>\n",
       "  </tbody>\n",
       "</table>\n",
       "</div>"
      ],
      "text/plain": [
       "           Position       Streams\n",
       "count  3.440540e+06  3.440540e+06\n",
       "mean   9.465220e+01  5.188452e+04\n",
       "std    5.739412e+01  2.017733e+05\n",
       "min    1.000000e+00  1.001000e+03\n",
       "25%    4.500000e+01  3.321000e+03\n",
       "50%    9.200000e+01  9.226000e+03\n",
       "75%    1.430000e+02  2.965600e+04\n",
       "max    2.000000e+02  1.138152e+07"
      ]
     },
     "execution_count": 11,
     "metadata": {},
     "output_type": "execute_result"
    }
   ],
   "source": [
    "data_df.describe()"
   ]
  },
  {
   "cell_type": "markdown",
   "metadata": {},
   "source": [
    "## `features_df`"
   ]
  },
  {
   "cell_type": "code",
   "execution_count": 12,
   "metadata": {},
   "outputs": [
    {
     "data": {
      "text/plain": [
       "(100, 16)"
      ]
     },
     "execution_count": 12,
     "metadata": {},
     "output_type": "execute_result"
    }
   ],
   "source": [
    "features_df.shape"
   ]
  },
  {
   "cell_type": "code",
   "execution_count": 13,
   "metadata": {
    "colab": {
     "base_uri": "https://localhost:8080/"
    },
    "id": "flbH5mXSv5Ma",
    "outputId": "05ec8ab4-ea5f-4453-accb-87c0201af2a0"
   },
   "outputs": [
    {
     "data": {
      "text/plain": [
       "Index(['id', 'name', 'artists', 'danceability', 'energy', 'key', 'loudness',\n",
       "       'mode', 'speechiness', 'acousticness', 'instrumentalness', 'liveness',\n",
       "       'valence', 'tempo', 'duration_ms', 'time_signature'],\n",
       "      dtype='object')"
      ]
     },
     "execution_count": 13,
     "metadata": {},
     "output_type": "execute_result"
    }
   ],
   "source": [
    "features_df.columns"
   ]
  },
  {
   "cell_type": "code",
   "execution_count": 14,
   "metadata": {
    "colab": {
     "base_uri": "https://localhost:8080/"
    },
    "id": "8B_mATTexn3H",
    "outputId": "4dd7f500-9cb7-4fe3-852d-56e22ec26f48"
   },
   "outputs": [
    {
     "data": {
      "text/plain": [
       "id                  0\n",
       "name                0\n",
       "artists             0\n",
       "danceability        0\n",
       "energy              0\n",
       "key                 0\n",
       "loudness            0\n",
       "mode                0\n",
       "speechiness         0\n",
       "acousticness        0\n",
       "instrumentalness    0\n",
       "liveness            0\n",
       "valence             0\n",
       "tempo               0\n",
       "duration_ms         0\n",
       "time_signature      0\n",
       "dtype: int64"
      ]
     },
     "execution_count": 14,
     "metadata": {},
     "output_type": "execute_result"
    }
   ],
   "source": [
    "features_df.isna().sum()"
   ]
  },
  {
   "cell_type": "code",
   "execution_count": 15,
   "metadata": {},
   "outputs": [
    {
     "data": {
      "text/plain": [
       "id                   object\n",
       "name                 object\n",
       "artists              object\n",
       "danceability        float64\n",
       "energy              float64\n",
       "key                 float64\n",
       "loudness            float64\n",
       "mode                float64\n",
       "speechiness         float64\n",
       "acousticness        float64\n",
       "instrumentalness    float64\n",
       "liveness            float64\n",
       "valence             float64\n",
       "tempo               float64\n",
       "duration_ms         float64\n",
       "time_signature      float64\n",
       "dtype: object"
      ]
     },
     "execution_count": 15,
     "metadata": {},
     "output_type": "execute_result"
    }
   ],
   "source": [
    "features_df.dtypes"
   ]
  },
  {
   "cell_type": "code",
   "execution_count": 16,
   "metadata": {
    "colab": {
     "base_uri": "https://localhost:8080/",
     "height": 364
    },
    "id": "aWdU12K1xtEH",
    "outputId": "980dc4e0-38d9-418c-a804-ca4fa4c26a6c"
   },
   "outputs": [
    {
     "data": {
      "text/html": [
       "<div>\n",
       "<style scoped>\n",
       "    .dataframe tbody tr th:only-of-type {\n",
       "        vertical-align: middle;\n",
       "    }\n",
       "\n",
       "    .dataframe tbody tr th {\n",
       "        vertical-align: top;\n",
       "    }\n",
       "\n",
       "    .dataframe thead th {\n",
       "        text-align: right;\n",
       "    }\n",
       "</style>\n",
       "<table border=\"1\" class=\"dataframe\">\n",
       "  <thead>\n",
       "    <tr style=\"text-align: right;\">\n",
       "      <th></th>\n",
       "      <th>danceability</th>\n",
       "      <th>energy</th>\n",
       "      <th>key</th>\n",
       "      <th>loudness</th>\n",
       "      <th>mode</th>\n",
       "      <th>speechiness</th>\n",
       "      <th>acousticness</th>\n",
       "      <th>instrumentalness</th>\n",
       "      <th>liveness</th>\n",
       "      <th>valence</th>\n",
       "      <th>tempo</th>\n",
       "      <th>duration_ms</th>\n",
       "      <th>time_signature</th>\n",
       "    </tr>\n",
       "  </thead>\n",
       "  <tbody>\n",
       "    <tr>\n",
       "      <th>count</th>\n",
       "      <td>100.00000</td>\n",
       "      <td>100.000000</td>\n",
       "      <td>100.000000</td>\n",
       "      <td>100.000000</td>\n",
       "      <td>100.000000</td>\n",
       "      <td>100.000000</td>\n",
       "      <td>100.000000</td>\n",
       "      <td>100.000000</td>\n",
       "      <td>100.000000</td>\n",
       "      <td>100.000000</td>\n",
       "      <td>100.000000</td>\n",
       "      <td>100.00000</td>\n",
       "      <td>100.00</td>\n",
       "    </tr>\n",
       "    <tr>\n",
       "      <th>mean</th>\n",
       "      <td>0.69682</td>\n",
       "      <td>0.660690</td>\n",
       "      <td>5.570000</td>\n",
       "      <td>-5.652650</td>\n",
       "      <td>0.580000</td>\n",
       "      <td>0.103969</td>\n",
       "      <td>0.166306</td>\n",
       "      <td>0.004796</td>\n",
       "      <td>0.150607</td>\n",
       "      <td>0.517049</td>\n",
       "      <td>119.202460</td>\n",
       "      <td>218387.28000</td>\n",
       "      <td>3.99</td>\n",
       "    </tr>\n",
       "    <tr>\n",
       "      <th>std</th>\n",
       "      <td>0.12508</td>\n",
       "      <td>0.139207</td>\n",
       "      <td>3.731534</td>\n",
       "      <td>1.802067</td>\n",
       "      <td>0.496045</td>\n",
       "      <td>0.095115</td>\n",
       "      <td>0.166730</td>\n",
       "      <td>0.026038</td>\n",
       "      <td>0.079011</td>\n",
       "      <td>0.216436</td>\n",
       "      <td>27.952928</td>\n",
       "      <td>32851.07772</td>\n",
       "      <td>0.10</td>\n",
       "    </tr>\n",
       "    <tr>\n",
       "      <th>min</th>\n",
       "      <td>0.25800</td>\n",
       "      <td>0.346000</td>\n",
       "      <td>0.000000</td>\n",
       "      <td>-11.462000</td>\n",
       "      <td>0.000000</td>\n",
       "      <td>0.023200</td>\n",
       "      <td>0.000259</td>\n",
       "      <td>0.000000</td>\n",
       "      <td>0.042400</td>\n",
       "      <td>0.086200</td>\n",
       "      <td>75.016000</td>\n",
       "      <td>165387.00000</td>\n",
       "      <td>3.00</td>\n",
       "    </tr>\n",
       "    <tr>\n",
       "      <th>25%</th>\n",
       "      <td>0.63500</td>\n",
       "      <td>0.556500</td>\n",
       "      <td>2.000000</td>\n",
       "      <td>-6.594500</td>\n",
       "      <td>0.000000</td>\n",
       "      <td>0.043125</td>\n",
       "      <td>0.039100</td>\n",
       "      <td>0.000000</td>\n",
       "      <td>0.098275</td>\n",
       "      <td>0.375500</td>\n",
       "      <td>99.911750</td>\n",
       "      <td>198490.50000</td>\n",
       "      <td>4.00</td>\n",
       "    </tr>\n",
       "    <tr>\n",
       "      <th>50%</th>\n",
       "      <td>0.71400</td>\n",
       "      <td>0.667500</td>\n",
       "      <td>6.000000</td>\n",
       "      <td>-5.437000</td>\n",
       "      <td>1.000000</td>\n",
       "      <td>0.062650</td>\n",
       "      <td>0.106500</td>\n",
       "      <td>0.000000</td>\n",
       "      <td>0.125000</td>\n",
       "      <td>0.502500</td>\n",
       "      <td>112.468000</td>\n",
       "      <td>214106.00000</td>\n",
       "      <td>4.00</td>\n",
       "    </tr>\n",
       "    <tr>\n",
       "      <th>75%</th>\n",
       "      <td>0.77025</td>\n",
       "      <td>0.787500</td>\n",
       "      <td>9.000000</td>\n",
       "      <td>-4.326750</td>\n",
       "      <td>1.000000</td>\n",
       "      <td>0.123000</td>\n",
       "      <td>0.231250</td>\n",
       "      <td>0.000013</td>\n",
       "      <td>0.179250</td>\n",
       "      <td>0.679000</td>\n",
       "      <td>137.166000</td>\n",
       "      <td>230543.00000</td>\n",
       "      <td>4.00</td>\n",
       "    </tr>\n",
       "    <tr>\n",
       "      <th>max</th>\n",
       "      <td>0.92700</td>\n",
       "      <td>0.932000</td>\n",
       "      <td>11.000000</td>\n",
       "      <td>-2.396000</td>\n",
       "      <td>1.000000</td>\n",
       "      <td>0.431000</td>\n",
       "      <td>0.695000</td>\n",
       "      <td>0.210000</td>\n",
       "      <td>0.440000</td>\n",
       "      <td>0.966000</td>\n",
       "      <td>199.864000</td>\n",
       "      <td>343150.00000</td>\n",
       "      <td>4.00</td>\n",
       "    </tr>\n",
       "  </tbody>\n",
       "</table>\n",
       "</div>"
      ],
      "text/plain": [
       "       danceability      energy         key    loudness        mode  \\\n",
       "count     100.00000  100.000000  100.000000  100.000000  100.000000   \n",
       "mean        0.69682    0.660690    5.570000   -5.652650    0.580000   \n",
       "std         0.12508    0.139207    3.731534    1.802067    0.496045   \n",
       "min         0.25800    0.346000    0.000000  -11.462000    0.000000   \n",
       "25%         0.63500    0.556500    2.000000   -6.594500    0.000000   \n",
       "50%         0.71400    0.667500    6.000000   -5.437000    1.000000   \n",
       "75%         0.77025    0.787500    9.000000   -4.326750    1.000000   \n",
       "max         0.92700    0.932000   11.000000   -2.396000    1.000000   \n",
       "\n",
       "       speechiness  acousticness  instrumentalness    liveness     valence  \\\n",
       "count   100.000000    100.000000        100.000000  100.000000  100.000000   \n",
       "mean      0.103969      0.166306          0.004796    0.150607    0.517049   \n",
       "std       0.095115      0.166730          0.026038    0.079011    0.216436   \n",
       "min       0.023200      0.000259          0.000000    0.042400    0.086200   \n",
       "25%       0.043125      0.039100          0.000000    0.098275    0.375500   \n",
       "50%       0.062650      0.106500          0.000000    0.125000    0.502500   \n",
       "75%       0.123000      0.231250          0.000013    0.179250    0.679000   \n",
       "max       0.431000      0.695000          0.210000    0.440000    0.966000   \n",
       "\n",
       "            tempo   duration_ms  time_signature  \n",
       "count  100.000000     100.00000          100.00  \n",
       "mean   119.202460  218387.28000            3.99  \n",
       "std     27.952928   32851.07772            0.10  \n",
       "min     75.016000  165387.00000            3.00  \n",
       "25%     99.911750  198490.50000            4.00  \n",
       "50%    112.468000  214106.00000            4.00  \n",
       "75%    137.166000  230543.00000            4.00  \n",
       "max    199.864000  343150.00000            4.00  "
      ]
     },
     "execution_count": 16,
     "metadata": {},
     "output_type": "execute_result"
    }
   ],
   "source": [
    "features_df.describe()"
   ]
  },
  {
   "cell_type": "markdown",
   "metadata": {
    "id": "xhUhFvoUyq7V"
   },
   "source": [
    "# Phân tích và trực quan hóa"
   ]
  },
  {
   "cell_type": "markdown",
   "metadata": {
    "id": "etQytDaZ5vaQ"
   },
   "source": [
    "## Bài 1: Biểu đồ danh sách các nghệ sĩ có từ 2 bài hát đạt top"
   ]
  },
  {
   "cell_type": "code",
   "execution_count": 17,
   "metadata": {
    "colab": {
     "base_uri": "https://localhost:8080/"
    },
    "id": "K1Mzd2s_4K4T",
    "outputId": "e98179aa-917c-4cd4-8fe6-eb210da74516"
   },
   "outputs": [
    {
     "data": {
      "text/html": [
       "<div>\n",
       "<style scoped>\n",
       "    .dataframe tbody tr th:only-of-type {\n",
       "        vertical-align: middle;\n",
       "    }\n",
       "\n",
       "    .dataframe tbody tr th {\n",
       "        vertical-align: top;\n",
       "    }\n",
       "\n",
       "    .dataframe thead th {\n",
       "        text-align: right;\n",
       "    }\n",
       "</style>\n",
       "<table border=\"1\" class=\"dataframe\">\n",
       "  <thead>\n",
       "    <tr style=\"text-align: right;\">\n",
       "      <th></th>\n",
       "      <th>Artist</th>\n",
       "      <th>Top Track Count</th>\n",
       "    </tr>\n",
       "  </thead>\n",
       "  <tbody>\n",
       "    <tr>\n",
       "      <th>1624</th>\n",
       "      <td>Jul</td>\n",
       "      <td>52</td>\n",
       "    </tr>\n",
       "    <tr>\n",
       "      <th>919</th>\n",
       "      <td>Ed Sheeran</td>\n",
       "      <td>45</td>\n",
       "    </tr>\n",
       "    <tr>\n",
       "      <th>653</th>\n",
       "      <td>Coldplay</td>\n",
       "      <td>44</td>\n",
       "    </tr>\n",
       "    <tr>\n",
       "      <th>1927</th>\n",
       "      <td>Linkin Park</td>\n",
       "      <td>41</td>\n",
       "    </tr>\n",
       "    <tr>\n",
       "      <th>1138</th>\n",
       "      <td>Future</td>\n",
       "      <td>38</td>\n",
       "    </tr>\n",
       "  </tbody>\n",
       "</table>\n",
       "</div>"
      ],
      "text/plain": [
       "           Artist  Top Track Count\n",
       "1624          Jul               52\n",
       "919    Ed Sheeran               45\n",
       "653      Coldplay               44\n",
       "1927  Linkin Park               41\n",
       "1138       Future               38"
      ]
     },
     "execution_count": 17,
     "metadata": {},
     "output_type": "execute_result"
    }
   ],
   "source": [
    "# Ở đây hiểu bài hát đạt top là bài hát từng có thứ hạng nằm trong\n",
    "# top 100 ở bất kỳ bảng xếp hạng nào\n",
    "artist_top_count_df = data_df[(data_df['Position'] >= 1) & (data_df['Position'] <= 100)]\\\n",
    "                      .groupby('Artist')['Track Name']\\\n",
    "                      .nunique()\\\n",
    "                      .to_frame()\\\n",
    "                      .reset_index()\n",
    "\n",
    "# Đổi tên cột Track Name\n",
    "artist_top_count_df.rename(\n",
    "    columns={'Track Name': 'Top Track Count'},\n",
    "    inplace=True\n",
    ")\n",
    "\n",
    "artist_top_count_df = artist_top_count_df[artist_top_count_df['Top Track Count'] >= 2]\\\n",
    "                      .sort_values(by='Top Track Count', ascending=False)\n",
    "artist_top_count_df.head()"
   ]
  },
  {
   "cell_type": "markdown",
   "metadata": {},
   "source": [
    "Top 30 nghệ sĩ có số bài hát đạt top nhiều nhất."
   ]
  },
  {
   "cell_type": "code",
   "execution_count": 18,
   "metadata": {},
   "outputs": [
    {
     "data": {
      "image/png": "[encoded data removed]",
      "text/plain": [
       "<Figure size 432x864 with 1 Axes>"
      ]
     },
     "metadata": {},
     "output_type": "display_data"
    }
   ],
   "source": [
    "fig, ax = plt.subplots(figsize=(6, 12))\n",
    "sns.barplot(y='Artist', x='Top Track Count', data=artist_top_count_df[:30], ax=ax, color='b', orient='h')\n",
    "ax.set_title('Number of top tracks by artists')\n",
    "plt.show()"
   ]
  },
  {
   "cell_type": "markdown",
   "metadata": {
    "id": "tsU0dGY9HBsd"
   },
   "source": [
    "## Bài 2: Tìm số lần các bài hát của Ed Sheeran nằm trong top 100 ở bảng xếp hạng Mỹ"
   ]
  },
  {
   "cell_type": "markdown",
   "metadata": {},
   "source": [
    "Biến `ed_us_top_songs` chứa các bài hát của Ed Sheeran đã từng lọt vào top 100 bảng xếp hạng Mỹ."
   ]
  },
  {
   "cell_type": "code",
   "execution_count": 19,
   "metadata": {
    "colab": {
     "base_uri": "https://localhost:8080/"
    },
    "id": "auLLXBJQGMui",
    "outputId": "cfb7cc53-9a24-44aa-cdd7-6f121c60951d"
   },
   "outputs": [
    {
     "data": {
      "text/html": [
       "<div>\n",
       "<style scoped>\n",
       "    .dataframe tbody tr th:only-of-type {\n",
       "        vertical-align: middle;\n",
       "    }\n",
       "\n",
       "    .dataframe tbody tr th {\n",
       "        vertical-align: top;\n",
       "    }\n",
       "\n",
       "    .dataframe thead th {\n",
       "        text-align: right;\n",
       "    }\n",
       "</style>\n",
       "<table border=\"1\" class=\"dataframe\">\n",
       "  <thead>\n",
       "    <tr style=\"text-align: right;\">\n",
       "      <th></th>\n",
       "      <th>Position</th>\n",
       "      <th>Track Name</th>\n",
       "      <th>Artist</th>\n",
       "      <th>Streams</th>\n",
       "      <th>URL</th>\n",
       "      <th>Date</th>\n",
       "      <th>Region</th>\n",
       "    </tr>\n",
       "  </thead>\n",
       "  <tbody>\n",
       "    <tr>\n",
       "      <th>772622</th>\n",
       "      <td>1</td>\n",
       "      <td>Shape of You</td>\n",
       "      <td>Ed Sheeran</td>\n",
       "      <td>1517787</td>\n",
       "      <td>https://open.spotify.com/track/7qiZfU4dY1lWllz...</td>\n",
       "      <td>2017-01-06</td>\n",
       "      <td>us</td>\n",
       "    </tr>\n",
       "    <tr>\n",
       "      <th>772623</th>\n",
       "      <td>2</td>\n",
       "      <td>Castle on the Hill</td>\n",
       "      <td>Ed Sheeran</td>\n",
       "      <td>1472037</td>\n",
       "      <td>https://open.spotify.com/track/6PCUP3dWmTjcTtX...</td>\n",
       "      <td>2017-01-06</td>\n",
       "      <td>us</td>\n",
       "    </tr>\n",
       "    <tr>\n",
       "      <th>772711</th>\n",
       "      <td>90</td>\n",
       "      <td>Photograph</td>\n",
       "      <td>Ed Sheeran</td>\n",
       "      <td>240747</td>\n",
       "      <td>https://open.spotify.com/track/6fxVffaTuwjgEk5...</td>\n",
       "      <td>2017-01-06</td>\n",
       "      <td>us</td>\n",
       "    </tr>\n",
       "    <tr>\n",
       "      <th>772721</th>\n",
       "      <td>100</td>\n",
       "      <td>Thinking Out Loud</td>\n",
       "      <td>Ed Sheeran</td>\n",
       "      <td>225907</td>\n",
       "      <td>https://open.spotify.com/track/1Slwb6dOYkBlWal...</td>\n",
       "      <td>2017-01-06</td>\n",
       "      <td>us</td>\n",
       "    </tr>\n",
       "    <tr>\n",
       "      <th>772822</th>\n",
       "      <td>1</td>\n",
       "      <td>Shape of You</td>\n",
       "      <td>Ed Sheeran</td>\n",
       "      <td>1437473</td>\n",
       "      <td>https://open.spotify.com/track/7qiZfU4dY1lWllz...</td>\n",
       "      <td>2017-01-07</td>\n",
       "      <td>us</td>\n",
       "    </tr>\n",
       "  </tbody>\n",
       "</table>\n",
       "</div>"
      ],
      "text/plain": [
       "        Position          Track Name      Artist  Streams  \\\n",
       "772622         1        Shape of You  Ed Sheeran  1517787   \n",
       "772623         2  Castle on the Hill  Ed Sheeran  1472037   \n",
       "772711        90          Photograph  Ed Sheeran   240747   \n",
       "772721       100   Thinking Out Loud  Ed Sheeran   225907   \n",
       "772822         1        Shape of You  Ed Sheeran  1437473   \n",
       "\n",
       "                                                      URL       Date Region  \n",
       "772622  https://open.spotify.com/track/7qiZfU4dY1lWllz... 2017-01-06     us  \n",
       "772623  https://open.spotify.com/track/6PCUP3dWmTjcTtX... 2017-01-06     us  \n",
       "772711  https://open.spotify.com/track/6fxVffaTuwjgEk5... 2017-01-06     us  \n",
       "772721  https://open.spotify.com/track/1Slwb6dOYkBlWal... 2017-01-06     us  \n",
       "772822  https://open.spotify.com/track/7qiZfU4dY1lWllz... 2017-01-07     us  "
      ]
     },
     "execution_count": 19,
     "metadata": {},
     "output_type": "execute_result"
    }
   ],
   "source": [
    "ed_us_top_songs = data_df[(data_df['Artist'] == 'Ed Sheeran') &\\\n",
    "                          (data_df['Region'] == 'us') &\\\n",
    "                          (data_df['Position'] >= 1) & (data_df['Position'] <= 100)]\n",
    "\n",
    "ed_us_top_songs.head()"
   ]
  },
  {
   "cell_type": "markdown",
   "metadata": {},
   "source": [
    "Tìm số lần các bài hát đạt top bằng cách đếm theo ngày."
   ]
  },
  {
   "cell_type": "code",
   "execution_count": 20,
   "metadata": {},
   "outputs": [
    {
     "data": {
      "text/plain": [
       "Track Name\n",
       "Shape of You                           364\n",
       "Perfect                                148\n",
       "Castle on the Hill                     104\n",
       "Galway Girl                             62\n",
       "Perfect Duet (Ed Sheeran & Beyoncé)     39\n",
       "Happier                                 35\n",
       "Dive                                    31\n",
       "New Man                                 22\n",
       "How Would You Feel (Paean)              20\n",
       "What Do I Know?                         19\n",
       "Supermarket Flowers                     17\n",
       "Barcelona                               17\n",
       "Nancy Mulligan                          16\n",
       "Hearts Don't Break Around Here          15\n",
       "Bibia Be Ye Ye                          14\n",
       "Save Myself                             14\n",
       "Eraser                                  14\n",
       "Thinking Out Loud                        6\n",
       "Photograph                               5\n",
       "Name: Date, dtype: int64"
      ]
     },
     "execution_count": 20,
     "metadata": {},
     "output_type": "execute_result"
    }
   ],
   "source": [
    "ed_us_top_songs_count = ed_us_top_songs.groupby('Track Name')['Date'].count().sort_values(ascending=False)\n",
    "ed_us_top_songs_count"
   ]
  },
  {
   "cell_type": "markdown",
   "metadata": {
    "id": "x6zUk7tEHDk4"
   },
   "source": [
    "## Bài 3: Vẽ biểu đồ diễn biến bảng xếp hạng của bài Shape of You của tác giả Ed Sheeran trong top 100 ở Mỹ. Mở rộng: diễn biến các bài hát của Ed Sheeran trong top 100 ở Mỹ."
   ]
  },
  {
   "cell_type": "markdown",
   "metadata": {},
   "source": [
    "### Diễn biến bảng xếp hạng của bài hát Shape of You"
   ]
  },
  {
   "cell_type": "code",
   "execution_count": 21,
   "metadata": {
    "colab": {
     "base_uri": "https://localhost:8080/",
     "height": 606
    },
    "id": "Ww0P_k8RHE58",
    "outputId": "69f3feda-4d08-4768-8417-dbd62069d8e6"
   },
   "outputs": [
    {
     "data": {
      "text/html": [
       "<div>\n",
       "<style scoped>\n",
       "    .dataframe tbody tr th:only-of-type {\n",
       "        vertical-align: middle;\n",
       "    }\n",
       "\n",
       "    .dataframe tbody tr th {\n",
       "        vertical-align: top;\n",
       "    }\n",
       "\n",
       "    .dataframe thead th {\n",
       "        text-align: right;\n",
       "    }\n",
       "</style>\n",
       "<table border=\"1\" class=\"dataframe\">\n",
       "  <thead>\n",
       "    <tr style=\"text-align: right;\">\n",
       "      <th></th>\n",
       "      <th>Date</th>\n",
       "      <th>Position</th>\n",
       "    </tr>\n",
       "  </thead>\n",
       "  <tbody>\n",
       "    <tr>\n",
       "      <th>772622</th>\n",
       "      <td>2017-01-06</td>\n",
       "      <td>1</td>\n",
       "    </tr>\n",
       "    <tr>\n",
       "      <th>772822</th>\n",
       "      <td>2017-01-07</td>\n",
       "      <td>1</td>\n",
       "    </tr>\n",
       "    <tr>\n",
       "      <th>773022</th>\n",
       "      <td>2017-01-08</td>\n",
       "      <td>1</td>\n",
       "    </tr>\n",
       "    <tr>\n",
       "      <th>773222</th>\n",
       "      <td>2017-01-09</td>\n",
       "      <td>1</td>\n",
       "    </tr>\n",
       "    <tr>\n",
       "      <th>773423</th>\n",
       "      <td>2017-01-10</td>\n",
       "      <td>2</td>\n",
       "    </tr>\n",
       "  </tbody>\n",
       "</table>\n",
       "</div>"
      ],
      "text/plain": [
       "             Date  Position\n",
       "772622 2017-01-06         1\n",
       "772822 2017-01-07         1\n",
       "773022 2017-01-08         1\n",
       "773222 2017-01-09         1\n",
       "773423 2017-01-10         2"
      ]
     },
     "execution_count": 21,
     "metadata": {},
     "output_type": "execute_result"
    }
   ],
   "source": [
    "soy = ed_us_top_songs[ed_us_top_songs['Track Name'] == 'Shape of You']\n",
    "soy_rank_progress = soy[['Date', 'Position']].sort_values(by='Date')\n",
    "soy_rank_progress.head()"
   ]
  },
  {
   "cell_type": "code",
   "execution_count": 22,
   "metadata": {},
   "outputs": [
    {
     "data": {
      "image/png": "[encoded data removed]",
      "text/plain": [
       "<Figure size 1080x432 with 1 Axes>"
      ]
     },
     "metadata": {},
     "output_type": "display_data"
    }
   ],
   "source": [
    "fig, ax = plt.subplots(figsize=(15, 6))\n",
    "sns.lineplot(data=soy_rank_progress, x='Date', y='Position', ax=ax)\n",
    "\n",
    "ax.invert_yaxis()\n",
    "ax.set_xlabel('Date')\n",
    "ax.set_ylabel('Position')\n",
    "ax.set_title('Shape of You\\'s rank progress in US chart')\n",
    "plt.show()"
   ]
  },
  {
   "cell_type": "markdown",
   "metadata": {},
   "source": [
    "### Diễn biến bảng xếp hạng của các bài hát của Ed Sheeran"
   ]
  },
  {
   "cell_type": "code",
   "execution_count": 23,
   "metadata": {},
   "outputs": [
    {
     "data": {
      "image/png": "[encoded data removed]",
      "text/plain": [
       "<Figure size 1080x864 with 19 Axes>"
      ]
     },
     "metadata": {},
     "output_type": "display_data"
    }
   ],
   "source": [
    "g = sns.FacetGrid(data=ed_us_top_songs[['Date', 'Position', 'Track Name']], col='Track Name', col_wrap=5)\n",
    "g.map(sns.lineplot, 'Date', 'Position')\n",
    "\n",
    "\n",
    "plt.gca().invert_yaxis()\n",
    "for ax in g.axes:\n",
    "    ax.xaxis.set_major_locator(mdates.MonthLocator(interval=3))\n",
    "    for xticklabel in ax.get_xticklabels():\n",
    "        xticklabel.set_rotation(25)\n",
    "        \n",
    "g.set_titles(col_template='{col_name}')\n",
    "g.fig.subplots_adjust(top=0.9)\n",
    "g.fig.suptitle('Ed Sheeran\\'s songs\\' rank progress in US chart')\n",
    "plt.show()"
   ]
  }
 ],
 "metadata": {
  "colab": {
   "collapsed_sections": [],
   "name": "da_spotify.ipynb",
   "provenance": []
  },
  "kernelspec": {
   "display_name": "Python 3 (ipykernel)",
   "language": "python",
   "name": "python3"
  },
  "language_info": {
   "codemirror_mode": {
    "name": "ipython",
    "version": 3
   },
   "file_extension": ".py",
   "mimetype": "text/x-python",
   "name": "python",
   "nbconvert_exporter": "python",
   "pygments_lexer": "ipython3",
   "version": "3.9.7"
  }
 },
 "nbformat": 4,
 "nbformat_minor": 1
}
