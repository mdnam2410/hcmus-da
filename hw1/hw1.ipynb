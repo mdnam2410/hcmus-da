{
 "cells": [
  {
   "cell_type": "markdown",
   "id": "1cb5a3a4",
   "metadata": {},
   "source": [
    "# Thông tin sinh viên\n",
    "* Họ tên: Mai Duy Nam\n",
    "* MSSV: 19120298"
   ]
  },
  {
   "cell_type": "markdown",
   "id": "16c6348c",
   "metadata": {},
   "source": [
    "# Đọc dữ liệu"
   ]
  },
  {
   "cell_type": "code",
   "execution_count": 1,
   "id": "0f9a5b94",
   "metadata": {},
   "outputs": [],
   "source": [
    "import pandas as pd"
   ]
  },
  {
   "cell_type": "code",
   "execution_count": 2,
   "id": "a5a322de",
   "metadata": {},
   "outputs": [
    {
     "data": {
      "text/html": [
       "<div>\n",
       "<style scoped>\n",
       "    .dataframe tbody tr th:only-of-type {\n",
       "        vertical-align: middle;\n",
       "    }\n",
       "\n",
       "    .dataframe tbody tr th {\n",
       "        vertical-align: top;\n",
       "    }\n",
       "\n",
       "    .dataframe thead th {\n",
       "        text-align: right;\n",
       "    }\n",
       "</style>\n",
       "<table border=\"1\" class=\"dataframe\">\n",
       "  <thead>\n",
       "    <tr style=\"text-align: right;\">\n",
       "      <th></th>\n",
       "      <th>Outlook</th>\n",
       "      <th>Temperature</th>\n",
       "      <th>Humidity</th>\n",
       "      <th>Wind speed</th>\n",
       "      <th>Play cricket</th>\n",
       "    </tr>\n",
       "  </thead>\n",
       "  <tbody>\n",
       "    <tr>\n",
       "      <th>0</th>\n",
       "      <td>Sunny</td>\n",
       "      <td>NaN</td>\n",
       "      <td>High</td>\n",
       "      <td>4.0</td>\n",
       "      <td>No</td>\n",
       "    </tr>\n",
       "    <tr>\n",
       "      <th>1</th>\n",
       "      <td>Sunny</td>\n",
       "      <td>NaN</td>\n",
       "      <td>High</td>\n",
       "      <td>20.0</td>\n",
       "      <td>No</td>\n",
       "    </tr>\n",
       "    <tr>\n",
       "      <th>2</th>\n",
       "      <td>Overcast</td>\n",
       "      <td>Hot</td>\n",
       "      <td>High</td>\n",
       "      <td>6.0</td>\n",
       "      <td>Yes</td>\n",
       "    </tr>\n",
       "    <tr>\n",
       "      <th>3</th>\n",
       "      <td>Rain</td>\n",
       "      <td>Mild</td>\n",
       "      <td>High</td>\n",
       "      <td>2.0</td>\n",
       "      <td>Yes</td>\n",
       "    </tr>\n",
       "    <tr>\n",
       "      <th>4</th>\n",
       "      <td>Rain</td>\n",
       "      <td>Cool</td>\n",
       "      <td>Normal</td>\n",
       "      <td>7.0</td>\n",
       "      <td>Yes</td>\n",
       "    </tr>\n",
       "  </tbody>\n",
       "</table>\n",
       "</div>"
      ],
      "text/plain": [
       "    Outlook Temperature Humidity  Wind speed Play cricket\n",
       "0     Sunny         NaN     High         4.0           No\n",
       "1     Sunny         NaN     High        20.0           No\n",
       "2  Overcast         Hot     High         6.0          Yes\n",
       "3      Rain        Mild     High         2.0          Yes\n",
       "4      Rain        Cool   Normal         7.0          Yes"
      ]
     },
     "execution_count": 2,
     "metadata": {},
     "output_type": "execute_result"
    }
   ],
   "source": [
    "df = pd.read_csv('weatherPrediction2.csv')\n",
    "df.head()"
   ]
  },
  {
   "cell_type": "markdown",
   "id": "9bb7251f",
   "metadata": {},
   "source": [
    "# Điền dữ liệu thiếu"
   ]
  },
  {
   "cell_type": "markdown",
   "id": "5a23ee80",
   "metadata": {},
   "source": [
    "Các cột có chứa giá trị thiếu:"
   ]
  },
  {
   "cell_type": "code",
   "execution_count": 3,
   "id": "1878895d",
   "metadata": {},
   "outputs": [
    {
     "data": {
      "text/plain": [
       "Index(['Temperature', 'Wind speed'], dtype='object')"
      ]
     },
     "execution_count": 3,
     "metadata": {},
     "output_type": "execute_result"
    }
   ],
   "source": [
    "missing_cols = df.columns[df.isna().any()]\n",
    "missing_cols"
   ]
  },
  {
   "cell_type": "markdown",
   "id": "4747a459",
   "metadata": {},
   "source": [
    "Có hai cột có chứa giá trị thiếu là Temperature và Wind speed. Ta nhận thấy hai cột này chứa dạng dữ liệu khác nhau: cột Temperature có dữ liệu dạng phân loại, còn cột Wind speed có dữ liệu dạng số. Do đó, ta sẽ điền giá trị thiếu cho hai cột này với các chiến lược khác nhau."
   ]
  },
  {
   "cell_type": "markdown",
   "id": "5caaeab5",
   "metadata": {},
   "source": [
    "## Một số hàm và biến phụ trợ"
   ]
  },
  {
   "cell_type": "code",
   "execution_count": 4,
   "id": "1c52974c",
   "metadata": {},
   "outputs": [
    {
     "data": {
      "text/plain": [
       "{'Temperature': [0, 1, 5, 7, 12], 'Wind speed': [5, 10]}"
      ]
     },
     "execution_count": 4,
     "metadata": {},
     "output_type": "execute_result"
    }
   ],
   "source": [
    "original_missing_cells = dict()\n",
    "for col in missing_cols:\n",
    "    x = df[col]\n",
    "    original_missing_cells[col] = list(x[x.isna()].to_dict().keys())\n",
    "original_missing_cells"
   ]
  },
  {
   "cell_type": "code",
   "execution_count": 5,
   "id": "a37cfb7f",
   "metadata": {},
   "outputs": [],
   "source": [
    "def slice_dict(d, key):\n",
    "    return {key: d[key]} if key in d else None"
   ]
  },
  {
   "cell_type": "code",
   "execution_count": 6,
   "id": "fe2390cc",
   "metadata": {},
   "outputs": [],
   "source": [
    "def highlight_originally_missing_cells(df, to_highlight):\n",
    "    def highlighter(x, to_highlight):\n",
    "        if x.name not in to_highlight.keys():\n",
    "            return [\"\"] * len(x)\n",
    "        return ['color: red' if v in to_highlight[x.name] else \"\" for v in x.index]\n",
    "    return df.style.apply(highlighter, axis=0, to_highlight=to_highlight)"
   ]
  },
  {
   "cell_type": "markdown",
   "id": "7d171f47",
   "metadata": {},
   "source": [
    "## Cột Wind speed"
   ]
  },
  {
   "cell_type": "code",
   "execution_count": 7,
   "id": "a4ef6fe8",
   "metadata": {},
   "outputs": [
    {
     "data": {
      "text/plain": [
       "{'Wind speed': [5, 10]}"
      ]
     },
     "execution_count": 7,
     "metadata": {},
     "output_type": "execute_result"
    }
   ],
   "source": [
    "ws_missing_cells = slice_dict(original_missing_cells, key='Wind speed')\n",
    "ws_missing_cells"
   ]
  },
  {
   "cell_type": "markdown",
   "id": "9b051ee4",
   "metadata": {},
   "source": [
    "### Cách 1: Điền bằng giá trị trung bình"
   ]
  },
  {
   "cell_type": "code",
   "execution_count": 8,
   "id": "b00e41b4",
   "metadata": {},
   "outputs": [
    {
     "data": {
      "text/html": [
       "<style type=\"text/css\">\n",
       "#T_16de9_row5_col3, #T_16de9_row10_col3 {\n",
       "  color: red;\n",
       "}\n",
       "</style>\n",
       "<table id=\"T_16de9\">\n",
       "  <thead>\n",
       "    <tr>\n",
       "      <th class=\"blank level0\" >&nbsp;</th>\n",
       "      <th id=\"T_16de9_level0_col0\" class=\"col_heading level0 col0\" >Outlook</th>\n",
       "      <th id=\"T_16de9_level0_col1\" class=\"col_heading level0 col1\" >Temperature</th>\n",
       "      <th id=\"T_16de9_level0_col2\" class=\"col_heading level0 col2\" >Humidity</th>\n",
       "      <th id=\"T_16de9_level0_col3\" class=\"col_heading level0 col3\" >Wind speed</th>\n",
       "      <th id=\"T_16de9_level0_col4\" class=\"col_heading level0 col4\" >Play cricket</th>\n",
       "    </tr>\n",
       "  </thead>\n",
       "  <tbody>\n",
       "    <tr>\n",
       "      <th id=\"T_16de9_level0_row0\" class=\"row_heading level0 row0\" >0</th>\n",
       "      <td id=\"T_16de9_row0_col0\" class=\"data row0 col0\" >Sunny</td>\n",
       "      <td id=\"T_16de9_row0_col1\" class=\"data row0 col1\" >nan</td>\n",
       "      <td id=\"T_16de9_row0_col2\" class=\"data row0 col2\" >High</td>\n",
       "      <td id=\"T_16de9_row0_col3\" class=\"data row0 col3\" >4.000000</td>\n",
       "      <td id=\"T_16de9_row0_col4\" class=\"data row0 col4\" >No</td>\n",
       "    </tr>\n",
       "    <tr>\n",
       "      <th id=\"T_16de9_level0_row1\" class=\"row_heading level0 row1\" >1</th>\n",
       "      <td id=\"T_16de9_row1_col0\" class=\"data row1 col0\" >Sunny</td>\n",
       "      <td id=\"T_16de9_row1_col1\" class=\"data row1 col1\" >nan</td>\n",
       "      <td id=\"T_16de9_row1_col2\" class=\"data row1 col2\" >High</td>\n",
       "      <td id=\"T_16de9_row1_col3\" class=\"data row1 col3\" >20.000000</td>\n",
       "      <td id=\"T_16de9_row1_col4\" class=\"data row1 col4\" >No</td>\n",
       "    </tr>\n",
       "    <tr>\n",
       "      <th id=\"T_16de9_level0_row2\" class=\"row_heading level0 row2\" >2</th>\n",
       "      <td id=\"T_16de9_row2_col0\" class=\"data row2 col0\" >Overcast</td>\n",
       "      <td id=\"T_16de9_row2_col1\" class=\"data row2 col1\" >Hot</td>\n",
       "      <td id=\"T_16de9_row2_col2\" class=\"data row2 col2\" >High</td>\n",
       "      <td id=\"T_16de9_row2_col3\" class=\"data row2 col3\" >6.000000</td>\n",
       "      <td id=\"T_16de9_row2_col4\" class=\"data row2 col4\" >Yes</td>\n",
       "    </tr>\n",
       "    <tr>\n",
       "      <th id=\"T_16de9_level0_row3\" class=\"row_heading level0 row3\" >3</th>\n",
       "      <td id=\"T_16de9_row3_col0\" class=\"data row3 col0\" >Rain</td>\n",
       "      <td id=\"T_16de9_row3_col1\" class=\"data row3 col1\" >Mild</td>\n",
       "      <td id=\"T_16de9_row3_col2\" class=\"data row3 col2\" >High</td>\n",
       "      <td id=\"T_16de9_row3_col3\" class=\"data row3 col3\" >2.000000</td>\n",
       "      <td id=\"T_16de9_row3_col4\" class=\"data row3 col4\" >Yes</td>\n",
       "    </tr>\n",
       "    <tr>\n",
       "      <th id=\"T_16de9_level0_row4\" class=\"row_heading level0 row4\" >4</th>\n",
       "      <td id=\"T_16de9_row4_col0\" class=\"data row4 col0\" >Rain</td>\n",
       "      <td id=\"T_16de9_row4_col1\" class=\"data row4 col1\" >Cool</td>\n",
       "      <td id=\"T_16de9_row4_col2\" class=\"data row4 col2\" >Normal</td>\n",
       "      <td id=\"T_16de9_row4_col3\" class=\"data row4 col3\" >7.000000</td>\n",
       "      <td id=\"T_16de9_row4_col4\" class=\"data row4 col4\" >Yes</td>\n",
       "    </tr>\n",
       "    <tr>\n",
       "      <th id=\"T_16de9_level0_row5\" class=\"row_heading level0 row5\" >5</th>\n",
       "      <td id=\"T_16de9_row5_col0\" class=\"data row5 col0\" >Rain</td>\n",
       "      <td id=\"T_16de9_row5_col1\" class=\"data row5 col1\" >nan</td>\n",
       "      <td id=\"T_16de9_row5_col2\" class=\"data row5 col2\" >Normal</td>\n",
       "      <td id=\"T_16de9_row5_col3\" class=\"data row5 col3\" >8.666667</td>\n",
       "      <td id=\"T_16de9_row5_col4\" class=\"data row5 col4\" >No</td>\n",
       "    </tr>\n",
       "    <tr>\n",
       "      <th id=\"T_16de9_level0_row6\" class=\"row_heading level0 row6\" >6</th>\n",
       "      <td id=\"T_16de9_row6_col0\" class=\"data row6 col0\" >Overcast</td>\n",
       "      <td id=\"T_16de9_row6_col1\" class=\"data row6 col1\" >Cool</td>\n",
       "      <td id=\"T_16de9_row6_col2\" class=\"data row6 col2\" >Normal</td>\n",
       "      <td id=\"T_16de9_row6_col3\" class=\"data row6 col3\" >22.000000</td>\n",
       "      <td id=\"T_16de9_row6_col4\" class=\"data row6 col4\" >Yes</td>\n",
       "    </tr>\n",
       "    <tr>\n",
       "      <th id=\"T_16de9_level0_row7\" class=\"row_heading level0 row7\" >7</th>\n",
       "      <td id=\"T_16de9_row7_col0\" class=\"data row7 col0\" >Sunny</td>\n",
       "      <td id=\"T_16de9_row7_col1\" class=\"data row7 col1\" >nan</td>\n",
       "      <td id=\"T_16de9_row7_col2\" class=\"data row7 col2\" >High</td>\n",
       "      <td id=\"T_16de9_row7_col3\" class=\"data row7 col3\" >4.000000</td>\n",
       "      <td id=\"T_16de9_row7_col4\" class=\"data row7 col4\" >No</td>\n",
       "    </tr>\n",
       "    <tr>\n",
       "      <th id=\"T_16de9_level0_row8\" class=\"row_heading level0 row8\" >8</th>\n",
       "      <td id=\"T_16de9_row8_col0\" class=\"data row8 col0\" >Sunny</td>\n",
       "      <td id=\"T_16de9_row8_col1\" class=\"data row8 col1\" >Cool</td>\n",
       "      <td id=\"T_16de9_row8_col2\" class=\"data row8 col2\" >Normal</td>\n",
       "      <td id=\"T_16de9_row8_col3\" class=\"data row8 col3\" >5.000000</td>\n",
       "      <td id=\"T_16de9_row8_col4\" class=\"data row8 col4\" >Yes</td>\n",
       "    </tr>\n",
       "    <tr>\n",
       "      <th id=\"T_16de9_level0_row9\" class=\"row_heading level0 row9\" >9</th>\n",
       "      <td id=\"T_16de9_row9_col0\" class=\"data row9 col0\" >Rain</td>\n",
       "      <td id=\"T_16de9_row9_col1\" class=\"data row9 col1\" >Mild</td>\n",
       "      <td id=\"T_16de9_row9_col2\" class=\"data row9 col2\" >Normal</td>\n",
       "      <td id=\"T_16de9_row9_col3\" class=\"data row9 col3\" >6.000000</td>\n",
       "      <td id=\"T_16de9_row9_col4\" class=\"data row9 col4\" >Yes</td>\n",
       "    </tr>\n",
       "    <tr>\n",
       "      <th id=\"T_16de9_level0_row10\" class=\"row_heading level0 row10\" >10</th>\n",
       "      <td id=\"T_16de9_row10_col0\" class=\"data row10 col0\" >Sunny</td>\n",
       "      <td id=\"T_16de9_row10_col1\" class=\"data row10 col1\" >Mild</td>\n",
       "      <td id=\"T_16de9_row10_col2\" class=\"data row10 col2\" >Normal</td>\n",
       "      <td id=\"T_16de9_row10_col3\" class=\"data row10 col3\" >8.666667</td>\n",
       "      <td id=\"T_16de9_row10_col4\" class=\"data row10 col4\" >Yes</td>\n",
       "    </tr>\n",
       "    <tr>\n",
       "      <th id=\"T_16de9_level0_row11\" class=\"row_heading level0 row11\" >11</th>\n",
       "      <td id=\"T_16de9_row11_col0\" class=\"data row11 col0\" >Overcast</td>\n",
       "      <td id=\"T_16de9_row11_col1\" class=\"data row11 col1\" >Mild</td>\n",
       "      <td id=\"T_16de9_row11_col2\" class=\"data row11 col2\" >High</td>\n",
       "      <td id=\"T_16de9_row11_col3\" class=\"data row11 col3\" >2.000000</td>\n",
       "      <td id=\"T_16de9_row11_col4\" class=\"data row11 col4\" >Yes</td>\n",
       "    </tr>\n",
       "    <tr>\n",
       "      <th id=\"T_16de9_level0_row12\" class=\"row_heading level0 row12\" >12</th>\n",
       "      <td id=\"T_16de9_row12_col0\" class=\"data row12 col0\" >Overcast</td>\n",
       "      <td id=\"T_16de9_row12_col1\" class=\"data row12 col1\" >nan</td>\n",
       "      <td id=\"T_16de9_row12_col2\" class=\"data row12 col2\" >Normal</td>\n",
       "      <td id=\"T_16de9_row12_col3\" class=\"data row12 col3\" >8.000000</td>\n",
       "      <td id=\"T_16de9_row12_col4\" class=\"data row12 col4\" >Yes</td>\n",
       "    </tr>\n",
       "    <tr>\n",
       "      <th id=\"T_16de9_level0_row13\" class=\"row_heading level0 row13\" >13</th>\n",
       "      <td id=\"T_16de9_row13_col0\" class=\"data row13 col0\" >Rain</td>\n",
       "      <td id=\"T_16de9_row13_col1\" class=\"data row13 col1\" >Mild</td>\n",
       "      <td id=\"T_16de9_row13_col2\" class=\"data row13 col2\" >High</td>\n",
       "      <td id=\"T_16de9_row13_col3\" class=\"data row13 col3\" >18.000000</td>\n",
       "      <td id=\"T_16de9_row13_col4\" class=\"data row13 col4\" >No</td>\n",
       "    </tr>\n",
       "  </tbody>\n",
       "</table>\n"
      ],
      "text/plain": [
       "<pandas.io.formats.style.Styler at 0x7f615ce89fa0>"
      ]
     },
     "execution_count": 8,
     "metadata": {},
     "output_type": "execute_result"
    }
   ],
   "source": [
    "ws_filled_mean_df = df.fillna({'Wind speed': df['Wind speed'].mean()})\n",
    "highlight_originally_missing_cells(ws_filled_mean_df, ws_missing_cells)"
   ]
  },
  {
   "cell_type": "markdown",
   "id": "e5180895",
   "metadata": {},
   "source": [
    "### Cách 2: Điền bằng giá trị trung vị"
   ]
  },
  {
   "cell_type": "code",
   "execution_count": 9,
   "id": "d0acb958",
   "metadata": {},
   "outputs": [
    {
     "data": {
      "text/html": [
       "<style type=\"text/css\">\n",
       "#T_390fe_row5_col3, #T_390fe_row10_col3 {\n",
       "  color: red;\n",
       "}\n",
       "</style>\n",
       "<table id=\"T_390fe\">\n",
       "  <thead>\n",
       "    <tr>\n",
       "      <th class=\"blank level0\" >&nbsp;</th>\n",
       "      <th id=\"T_390fe_level0_col0\" class=\"col_heading level0 col0\" >Outlook</th>\n",
       "      <th id=\"T_390fe_level0_col1\" class=\"col_heading level0 col1\" >Temperature</th>\n",
       "      <th id=\"T_390fe_level0_col2\" class=\"col_heading level0 col2\" >Humidity</th>\n",
       "      <th id=\"T_390fe_level0_col3\" class=\"col_heading level0 col3\" >Wind speed</th>\n",
       "      <th id=\"T_390fe_level0_col4\" class=\"col_heading level0 col4\" >Play cricket</th>\n",
       "    </tr>\n",
       "  </thead>\n",
       "  <tbody>\n",
       "    <tr>\n",
       "      <th id=\"T_390fe_level0_row0\" class=\"row_heading level0 row0\" >0</th>\n",
       "      <td id=\"T_390fe_row0_col0\" class=\"data row0 col0\" >Sunny</td>\n",
       "      <td id=\"T_390fe_row0_col1\" class=\"data row0 col1\" >nan</td>\n",
       "      <td id=\"T_390fe_row0_col2\" class=\"data row0 col2\" >High</td>\n",
       "      <td id=\"T_390fe_row0_col3\" class=\"data row0 col3\" >4.000000</td>\n",
       "      <td id=\"T_390fe_row0_col4\" class=\"data row0 col4\" >No</td>\n",
       "    </tr>\n",
       "    <tr>\n",
       "      <th id=\"T_390fe_level0_row1\" class=\"row_heading level0 row1\" >1</th>\n",
       "      <td id=\"T_390fe_row1_col0\" class=\"data row1 col0\" >Sunny</td>\n",
       "      <td id=\"T_390fe_row1_col1\" class=\"data row1 col1\" >nan</td>\n",
       "      <td id=\"T_390fe_row1_col2\" class=\"data row1 col2\" >High</td>\n",
       "      <td id=\"T_390fe_row1_col3\" class=\"data row1 col3\" >20.000000</td>\n",
       "      <td id=\"T_390fe_row1_col4\" class=\"data row1 col4\" >No</td>\n",
       "    </tr>\n",
       "    <tr>\n",
       "      <th id=\"T_390fe_level0_row2\" class=\"row_heading level0 row2\" >2</th>\n",
       "      <td id=\"T_390fe_row2_col0\" class=\"data row2 col0\" >Overcast</td>\n",
       "      <td id=\"T_390fe_row2_col1\" class=\"data row2 col1\" >Hot</td>\n",
       "      <td id=\"T_390fe_row2_col2\" class=\"data row2 col2\" >High</td>\n",
       "      <td id=\"T_390fe_row2_col3\" class=\"data row2 col3\" >6.000000</td>\n",
       "      <td id=\"T_390fe_row2_col4\" class=\"data row2 col4\" >Yes</td>\n",
       "    </tr>\n",
       "    <tr>\n",
       "      <th id=\"T_390fe_level0_row3\" class=\"row_heading level0 row3\" >3</th>\n",
       "      <td id=\"T_390fe_row3_col0\" class=\"data row3 col0\" >Rain</td>\n",
       "      <td id=\"T_390fe_row3_col1\" class=\"data row3 col1\" >Mild</td>\n",
       "      <td id=\"T_390fe_row3_col2\" class=\"data row3 col2\" >High</td>\n",
       "      <td id=\"T_390fe_row3_col3\" class=\"data row3 col3\" >2.000000</td>\n",
       "      <td id=\"T_390fe_row3_col4\" class=\"data row3 col4\" >Yes</td>\n",
       "    </tr>\n",
       "    <tr>\n",
       "      <th id=\"T_390fe_level0_row4\" class=\"row_heading level0 row4\" >4</th>\n",
       "      <td id=\"T_390fe_row4_col0\" class=\"data row4 col0\" >Rain</td>\n",
       "      <td id=\"T_390fe_row4_col1\" class=\"data row4 col1\" >Cool</td>\n",
       "      <td id=\"T_390fe_row4_col2\" class=\"data row4 col2\" >Normal</td>\n",
       "      <td id=\"T_390fe_row4_col3\" class=\"data row4 col3\" >7.000000</td>\n",
       "      <td id=\"T_390fe_row4_col4\" class=\"data row4 col4\" >Yes</td>\n",
       "    </tr>\n",
       "    <tr>\n",
       "      <th id=\"T_390fe_level0_row5\" class=\"row_heading level0 row5\" >5</th>\n",
       "      <td id=\"T_390fe_row5_col0\" class=\"data row5 col0\" >Rain</td>\n",
       "      <td id=\"T_390fe_row5_col1\" class=\"data row5 col1\" >nan</td>\n",
       "      <td id=\"T_390fe_row5_col2\" class=\"data row5 col2\" >Normal</td>\n",
       "      <td id=\"T_390fe_row5_col3\" class=\"data row5 col3\" >6.000000</td>\n",
       "      <td id=\"T_390fe_row5_col4\" class=\"data row5 col4\" >No</td>\n",
       "    </tr>\n",
       "    <tr>\n",
       "      <th id=\"T_390fe_level0_row6\" class=\"row_heading level0 row6\" >6</th>\n",
       "      <td id=\"T_390fe_row6_col0\" class=\"data row6 col0\" >Overcast</td>\n",
       "      <td id=\"T_390fe_row6_col1\" class=\"data row6 col1\" >Cool</td>\n",
       "      <td id=\"T_390fe_row6_col2\" class=\"data row6 col2\" >Normal</td>\n",
       "      <td id=\"T_390fe_row6_col3\" class=\"data row6 col3\" >22.000000</td>\n",
       "      <td id=\"T_390fe_row6_col4\" class=\"data row6 col4\" >Yes</td>\n",
       "    </tr>\n",
       "    <tr>\n",
       "      <th id=\"T_390fe_level0_row7\" class=\"row_heading level0 row7\" >7</th>\n",
       "      <td id=\"T_390fe_row7_col0\" class=\"data row7 col0\" >Sunny</td>\n",
       "      <td id=\"T_390fe_row7_col1\" class=\"data row7 col1\" >nan</td>\n",
       "      <td id=\"T_390fe_row7_col2\" class=\"data row7 col2\" >High</td>\n",
       "      <td id=\"T_390fe_row7_col3\" class=\"data row7 col3\" >4.000000</td>\n",
       "      <td id=\"T_390fe_row7_col4\" class=\"data row7 col4\" >No</td>\n",
       "    </tr>\n",
       "    <tr>\n",
       "      <th id=\"T_390fe_level0_row8\" class=\"row_heading level0 row8\" >8</th>\n",
       "      <td id=\"T_390fe_row8_col0\" class=\"data row8 col0\" >Sunny</td>\n",
       "      <td id=\"T_390fe_row8_col1\" class=\"data row8 col1\" >Cool</td>\n",
       "      <td id=\"T_390fe_row8_col2\" class=\"data row8 col2\" >Normal</td>\n",
       "      <td id=\"T_390fe_row8_col3\" class=\"data row8 col3\" >5.000000</td>\n",
       "      <td id=\"T_390fe_row8_col4\" class=\"data row8 col4\" >Yes</td>\n",
       "    </tr>\n",
       "    <tr>\n",
       "      <th id=\"T_390fe_level0_row9\" class=\"row_heading level0 row9\" >9</th>\n",
       "      <td id=\"T_390fe_row9_col0\" class=\"data row9 col0\" >Rain</td>\n",
       "      <td id=\"T_390fe_row9_col1\" class=\"data row9 col1\" >Mild</td>\n",
       "      <td id=\"T_390fe_row9_col2\" class=\"data row9 col2\" >Normal</td>\n",
       "      <td id=\"T_390fe_row9_col3\" class=\"data row9 col3\" >6.000000</td>\n",
       "      <td id=\"T_390fe_row9_col4\" class=\"data row9 col4\" >Yes</td>\n",
       "    </tr>\n",
       "    <tr>\n",
       "      <th id=\"T_390fe_level0_row10\" class=\"row_heading level0 row10\" >10</th>\n",
       "      <td id=\"T_390fe_row10_col0\" class=\"data row10 col0\" >Sunny</td>\n",
       "      <td id=\"T_390fe_row10_col1\" class=\"data row10 col1\" >Mild</td>\n",
       "      <td id=\"T_390fe_row10_col2\" class=\"data row10 col2\" >Normal</td>\n",
       "      <td id=\"T_390fe_row10_col3\" class=\"data row10 col3\" >6.000000</td>\n",
       "      <td id=\"T_390fe_row10_col4\" class=\"data row10 col4\" >Yes</td>\n",
       "    </tr>\n",
       "    <tr>\n",
       "      <th id=\"T_390fe_level0_row11\" class=\"row_heading level0 row11\" >11</th>\n",
       "      <td id=\"T_390fe_row11_col0\" class=\"data row11 col0\" >Overcast</td>\n",
       "      <td id=\"T_390fe_row11_col1\" class=\"data row11 col1\" >Mild</td>\n",
       "      <td id=\"T_390fe_row11_col2\" class=\"data row11 col2\" >High</td>\n",
       "      <td id=\"T_390fe_row11_col3\" class=\"data row11 col3\" >2.000000</td>\n",
       "      <td id=\"T_390fe_row11_col4\" class=\"data row11 col4\" >Yes</td>\n",
       "    </tr>\n",
       "    <tr>\n",
       "      <th id=\"T_390fe_level0_row12\" class=\"row_heading level0 row12\" >12</th>\n",
       "      <td id=\"T_390fe_row12_col0\" class=\"data row12 col0\" >Overcast</td>\n",
       "      <td id=\"T_390fe_row12_col1\" class=\"data row12 col1\" >nan</td>\n",
       "      <td id=\"T_390fe_row12_col2\" class=\"data row12 col2\" >Normal</td>\n",
       "      <td id=\"T_390fe_row12_col3\" class=\"data row12 col3\" >8.000000</td>\n",
       "      <td id=\"T_390fe_row12_col4\" class=\"data row12 col4\" >Yes</td>\n",
       "    </tr>\n",
       "    <tr>\n",
       "      <th id=\"T_390fe_level0_row13\" class=\"row_heading level0 row13\" >13</th>\n",
       "      <td id=\"T_390fe_row13_col0\" class=\"data row13 col0\" >Rain</td>\n",
       "      <td id=\"T_390fe_row13_col1\" class=\"data row13 col1\" >Mild</td>\n",
       "      <td id=\"T_390fe_row13_col2\" class=\"data row13 col2\" >High</td>\n",
       "      <td id=\"T_390fe_row13_col3\" class=\"data row13 col3\" >18.000000</td>\n",
       "      <td id=\"T_390fe_row13_col4\" class=\"data row13 col4\" >No</td>\n",
       "    </tr>\n",
       "  </tbody>\n",
       "</table>\n"
      ],
      "text/plain": [
       "<pandas.io.formats.style.Styler at 0x7f615ce24760>"
      ]
     },
     "execution_count": 9,
     "metadata": {},
     "output_type": "execute_result"
    }
   ],
   "source": [
    "ws_filled_median_df = df.fillna({'Wind speed': df['Wind speed'].median()})\n",
    "highlight_originally_missing_cells(ws_filled_median_df, ws_missing_cells)"
   ]
  },
  {
   "cell_type": "markdown",
   "id": "40604058",
   "metadata": {},
   "source": [
    "### Cách 3: Điền bằng giá trị mode"
   ]
  },
  {
   "cell_type": "code",
   "execution_count": 10,
   "id": "9a6a342f",
   "metadata": {},
   "outputs": [
    {
     "data": {
      "text/plain": [
       "0    2.0\n",
       "1    4.0\n",
       "2    6.0\n",
       "Name: Wind speed, dtype: float64"
      ]
     },
     "execution_count": 10,
     "metadata": {},
     "output_type": "execute_result"
    }
   ],
   "source": [
    "df['Wind speed'].mode()"
   ]
  },
  {
   "cell_type": "markdown",
   "id": "3889c814",
   "metadata": {},
   "source": [
    "Vì cột Wind speed có nhiều giá trị mode, ta mặc định chọn giá trị mode đầu tiên."
   ]
  },
  {
   "cell_type": "code",
   "execution_count": 11,
   "id": "be60dfbc",
   "metadata": {},
   "outputs": [
    {
     "data": {
      "text/html": [
       "<style type=\"text/css\">\n",
       "#T_4391a_row5_col3, #T_4391a_row10_col3 {\n",
       "  color: red;\n",
       "}\n",
       "</style>\n",
       "<table id=\"T_4391a\">\n",
       "  <thead>\n",
       "    <tr>\n",
       "      <th class=\"blank level0\" >&nbsp;</th>\n",
       "      <th id=\"T_4391a_level0_col0\" class=\"col_heading level0 col0\" >Outlook</th>\n",
       "      <th id=\"T_4391a_level0_col1\" class=\"col_heading level0 col1\" >Temperature</th>\n",
       "      <th id=\"T_4391a_level0_col2\" class=\"col_heading level0 col2\" >Humidity</th>\n",
       "      <th id=\"T_4391a_level0_col3\" class=\"col_heading level0 col3\" >Wind speed</th>\n",
       "      <th id=\"T_4391a_level0_col4\" class=\"col_heading level0 col4\" >Play cricket</th>\n",
       "    </tr>\n",
       "  </thead>\n",
       "  <tbody>\n",
       "    <tr>\n",
       "      <th id=\"T_4391a_level0_row0\" class=\"row_heading level0 row0\" >0</th>\n",
       "      <td id=\"T_4391a_row0_col0\" class=\"data row0 col0\" >Sunny</td>\n",
       "      <td id=\"T_4391a_row0_col1\" class=\"data row0 col1\" >nan</td>\n",
       "      <td id=\"T_4391a_row0_col2\" class=\"data row0 col2\" >High</td>\n",
       "      <td id=\"T_4391a_row0_col3\" class=\"data row0 col3\" >4.000000</td>\n",
       "      <td id=\"T_4391a_row0_col4\" class=\"data row0 col4\" >No</td>\n",
       "    </tr>\n",
       "    <tr>\n",
       "      <th id=\"T_4391a_level0_row1\" class=\"row_heading level0 row1\" >1</th>\n",
       "      <td id=\"T_4391a_row1_col0\" class=\"data row1 col0\" >Sunny</td>\n",
       "      <td id=\"T_4391a_row1_col1\" class=\"data row1 col1\" >nan</td>\n",
       "      <td id=\"T_4391a_row1_col2\" class=\"data row1 col2\" >High</td>\n",
       "      <td id=\"T_4391a_row1_col3\" class=\"data row1 col3\" >20.000000</td>\n",
       "      <td id=\"T_4391a_row1_col4\" class=\"data row1 col4\" >No</td>\n",
       "    </tr>\n",
       "    <tr>\n",
       "      <th id=\"T_4391a_level0_row2\" class=\"row_heading level0 row2\" >2</th>\n",
       "      <td id=\"T_4391a_row2_col0\" class=\"data row2 col0\" >Overcast</td>\n",
       "      <td id=\"T_4391a_row2_col1\" class=\"data row2 col1\" >Hot</td>\n",
       "      <td id=\"T_4391a_row2_col2\" class=\"data row2 col2\" >High</td>\n",
       "      <td id=\"T_4391a_row2_col3\" class=\"data row2 col3\" >6.000000</td>\n",
       "      <td id=\"T_4391a_row2_col4\" class=\"data row2 col4\" >Yes</td>\n",
       "    </tr>\n",
       "    <tr>\n",
       "      <th id=\"T_4391a_level0_row3\" class=\"row_heading level0 row3\" >3</th>\n",
       "      <td id=\"T_4391a_row3_col0\" class=\"data row3 col0\" >Rain</td>\n",
       "      <td id=\"T_4391a_row3_col1\" class=\"data row3 col1\" >Mild</td>\n",
       "      <td id=\"T_4391a_row3_col2\" class=\"data row3 col2\" >High</td>\n",
       "      <td id=\"T_4391a_row3_col3\" class=\"data row3 col3\" >2.000000</td>\n",
       "      <td id=\"T_4391a_row3_col4\" class=\"data row3 col4\" >Yes</td>\n",
       "    </tr>\n",
       "    <tr>\n",
       "      <th id=\"T_4391a_level0_row4\" class=\"row_heading level0 row4\" >4</th>\n",
       "      <td id=\"T_4391a_row4_col0\" class=\"data row4 col0\" >Rain</td>\n",
       "      <td id=\"T_4391a_row4_col1\" class=\"data row4 col1\" >Cool</td>\n",
       "      <td id=\"T_4391a_row4_col2\" class=\"data row4 col2\" >Normal</td>\n",
       "      <td id=\"T_4391a_row4_col3\" class=\"data row4 col3\" >7.000000</td>\n",
       "      <td id=\"T_4391a_row4_col4\" class=\"data row4 col4\" >Yes</td>\n",
       "    </tr>\n",
       "    <tr>\n",
       "      <th id=\"T_4391a_level0_row5\" class=\"row_heading level0 row5\" >5</th>\n",
       "      <td id=\"T_4391a_row5_col0\" class=\"data row5 col0\" >Rain</td>\n",
       "      <td id=\"T_4391a_row5_col1\" class=\"data row5 col1\" >nan</td>\n",
       "      <td id=\"T_4391a_row5_col2\" class=\"data row5 col2\" >Normal</td>\n",
       "      <td id=\"T_4391a_row5_col3\" class=\"data row5 col3\" >2.000000</td>\n",
       "      <td id=\"T_4391a_row5_col4\" class=\"data row5 col4\" >No</td>\n",
       "    </tr>\n",
       "    <tr>\n",
       "      <th id=\"T_4391a_level0_row6\" class=\"row_heading level0 row6\" >6</th>\n",
       "      <td id=\"T_4391a_row6_col0\" class=\"data row6 col0\" >Overcast</td>\n",
       "      <td id=\"T_4391a_row6_col1\" class=\"data row6 col1\" >Cool</td>\n",
       "      <td id=\"T_4391a_row6_col2\" class=\"data row6 col2\" >Normal</td>\n",
       "      <td id=\"T_4391a_row6_col3\" class=\"data row6 col3\" >22.000000</td>\n",
       "      <td id=\"T_4391a_row6_col4\" class=\"data row6 col4\" >Yes</td>\n",
       "    </tr>\n",
       "    <tr>\n",
       "      <th id=\"T_4391a_level0_row7\" class=\"row_heading level0 row7\" >7</th>\n",
       "      <td id=\"T_4391a_row7_col0\" class=\"data row7 col0\" >Sunny</td>\n",
       "      <td id=\"T_4391a_row7_col1\" class=\"data row7 col1\" >nan</td>\n",
       "      <td id=\"T_4391a_row7_col2\" class=\"data row7 col2\" >High</td>\n",
       "      <td id=\"T_4391a_row7_col3\" class=\"data row7 col3\" >4.000000</td>\n",
       "      <td id=\"T_4391a_row7_col4\" class=\"data row7 col4\" >No</td>\n",
       "    </tr>\n",
       "    <tr>\n",
       "      <th id=\"T_4391a_level0_row8\" class=\"row_heading level0 row8\" >8</th>\n",
       "      <td id=\"T_4391a_row8_col0\" class=\"data row8 col0\" >Sunny</td>\n",
       "      <td id=\"T_4391a_row8_col1\" class=\"data row8 col1\" >Cool</td>\n",
       "      <td id=\"T_4391a_row8_col2\" class=\"data row8 col2\" >Normal</td>\n",
       "      <td id=\"T_4391a_row8_col3\" class=\"data row8 col3\" >5.000000</td>\n",
       "      <td id=\"T_4391a_row8_col4\" class=\"data row8 col4\" >Yes</td>\n",
       "    </tr>\n",
       "    <tr>\n",
       "      <th id=\"T_4391a_level0_row9\" class=\"row_heading level0 row9\" >9</th>\n",
       "      <td id=\"T_4391a_row9_col0\" class=\"data row9 col0\" >Rain</td>\n",
       "      <td id=\"T_4391a_row9_col1\" class=\"data row9 col1\" >Mild</td>\n",
       "      <td id=\"T_4391a_row9_col2\" class=\"data row9 col2\" >Normal</td>\n",
       "      <td id=\"T_4391a_row9_col3\" class=\"data row9 col3\" >6.000000</td>\n",
       "      <td id=\"T_4391a_row9_col4\" class=\"data row9 col4\" >Yes</td>\n",
       "    </tr>\n",
       "    <tr>\n",
       "      <th id=\"T_4391a_level0_row10\" class=\"row_heading level0 row10\" >10</th>\n",
       "      <td id=\"T_4391a_row10_col0\" class=\"data row10 col0\" >Sunny</td>\n",
       "      <td id=\"T_4391a_row10_col1\" class=\"data row10 col1\" >Mild</td>\n",
       "      <td id=\"T_4391a_row10_col2\" class=\"data row10 col2\" >Normal</td>\n",
       "      <td id=\"T_4391a_row10_col3\" class=\"data row10 col3\" >2.000000</td>\n",
       "      <td id=\"T_4391a_row10_col4\" class=\"data row10 col4\" >Yes</td>\n",
       "    </tr>\n",
       "    <tr>\n",
       "      <th id=\"T_4391a_level0_row11\" class=\"row_heading level0 row11\" >11</th>\n",
       "      <td id=\"T_4391a_row11_col0\" class=\"data row11 col0\" >Overcast</td>\n",
       "      <td id=\"T_4391a_row11_col1\" class=\"data row11 col1\" >Mild</td>\n",
       "      <td id=\"T_4391a_row11_col2\" class=\"data row11 col2\" >High</td>\n",
       "      <td id=\"T_4391a_row11_col3\" class=\"data row11 col3\" >2.000000</td>\n",
       "      <td id=\"T_4391a_row11_col4\" class=\"data row11 col4\" >Yes</td>\n",
       "    </tr>\n",
       "    <tr>\n",
       "      <th id=\"T_4391a_level0_row12\" class=\"row_heading level0 row12\" >12</th>\n",
       "      <td id=\"T_4391a_row12_col0\" class=\"data row12 col0\" >Overcast</td>\n",
       "      <td id=\"T_4391a_row12_col1\" class=\"data row12 col1\" >nan</td>\n",
       "      <td id=\"T_4391a_row12_col2\" class=\"data row12 col2\" >Normal</td>\n",
       "      <td id=\"T_4391a_row12_col3\" class=\"data row12 col3\" >8.000000</td>\n",
       "      <td id=\"T_4391a_row12_col4\" class=\"data row12 col4\" >Yes</td>\n",
       "    </tr>\n",
       "    <tr>\n",
       "      <th id=\"T_4391a_level0_row13\" class=\"row_heading level0 row13\" >13</th>\n",
       "      <td id=\"T_4391a_row13_col0\" class=\"data row13 col0\" >Rain</td>\n",
       "      <td id=\"T_4391a_row13_col1\" class=\"data row13 col1\" >Mild</td>\n",
       "      <td id=\"T_4391a_row13_col2\" class=\"data row13 col2\" >High</td>\n",
       "      <td id=\"T_4391a_row13_col3\" class=\"data row13 col3\" >18.000000</td>\n",
       "      <td id=\"T_4391a_row13_col4\" class=\"data row13 col4\" >No</td>\n",
       "    </tr>\n",
       "  </tbody>\n",
       "</table>\n"
      ],
      "text/plain": [
       "<pandas.io.formats.style.Styler at 0x7f615ce24c10>"
      ]
     },
     "execution_count": 11,
     "metadata": {},
     "output_type": "execute_result"
    }
   ],
   "source": [
    "ws_filled_mode_df = df.fillna({'Wind speed': df['Wind speed'].mode()[0]})\n",
    "highlight_originally_missing_cells(ws_filled_mode_df, ws_missing_cells)"
   ]
  },
  {
   "cell_type": "markdown",
   "id": "284a1f91",
   "metadata": {},
   "source": [
    "### Cách 4: Điền bằng giá trị trung bình/trung vị nhóm theo cột Outlook"
   ]
  },
  {
   "cell_type": "markdown",
   "id": "9d0bc1de",
   "metadata": {},
   "source": [
    "Ta điền giá trị thiếu của cột Wind speed dựa theo giá trị trung bình/trung vị theo từng nhóm của cột Outlook: Overcast, Rain hay Sunny. Các cell dưới đây tính giá trị trung bình, trung vị và mode của các cột, nhóm theo cột Outlook."
   ]
  },
  {
   "cell_type": "code",
   "execution_count": 12,
   "id": "fc99541f",
   "metadata": {},
   "outputs": [
    {
     "data": {
      "text/html": [
       "<div>\n",
       "<style scoped>\n",
       "    .dataframe tbody tr th:only-of-type {\n",
       "        vertical-align: middle;\n",
       "    }\n",
       "\n",
       "    .dataframe tbody tr th {\n",
       "        vertical-align: top;\n",
       "    }\n",
       "\n",
       "    .dataframe thead th {\n",
       "        text-align: right;\n",
       "    }\n",
       "</style>\n",
       "<table border=\"1\" class=\"dataframe\">\n",
       "  <thead>\n",
       "    <tr style=\"text-align: right;\">\n",
       "      <th></th>\n",
       "      <th>Wind speed</th>\n",
       "    </tr>\n",
       "    <tr>\n",
       "      <th>Outlook</th>\n",
       "      <th></th>\n",
       "    </tr>\n",
       "  </thead>\n",
       "  <tbody>\n",
       "    <tr>\n",
       "      <th>Overcast</th>\n",
       "      <td>9.50</td>\n",
       "    </tr>\n",
       "    <tr>\n",
       "      <th>Rain</th>\n",
       "      <td>8.25</td>\n",
       "    </tr>\n",
       "    <tr>\n",
       "      <th>Sunny</th>\n",
       "      <td>8.25</td>\n",
       "    </tr>\n",
       "  </tbody>\n",
       "</table>\n",
       "</div>"
      ],
      "text/plain": [
       "          Wind speed\n",
       "Outlook             \n",
       "Overcast        9.50\n",
       "Rain            8.25\n",
       "Sunny           8.25"
      ]
     },
     "execution_count": 12,
     "metadata": {},
     "output_type": "execute_result"
    }
   ],
   "source": [
    "group_by_outlook_mean = df.groupby('Outlook').mean()\n",
    "group_by_outlook_mean"
   ]
  },
  {
   "cell_type": "code",
   "execution_count": 13,
   "id": "fececf8b",
   "metadata": {},
   "outputs": [
    {
     "data": {
      "text/html": [
       "<div>\n",
       "<style scoped>\n",
       "    .dataframe tbody tr th:only-of-type {\n",
       "        vertical-align: middle;\n",
       "    }\n",
       "\n",
       "    .dataframe tbody tr th {\n",
       "        vertical-align: top;\n",
       "    }\n",
       "\n",
       "    .dataframe thead th {\n",
       "        text-align: right;\n",
       "    }\n",
       "</style>\n",
       "<table border=\"1\" class=\"dataframe\">\n",
       "  <thead>\n",
       "    <tr style=\"text-align: right;\">\n",
       "      <th></th>\n",
       "      <th>Wind speed</th>\n",
       "    </tr>\n",
       "    <tr>\n",
       "      <th>Outlook</th>\n",
       "      <th></th>\n",
       "    </tr>\n",
       "  </thead>\n",
       "  <tbody>\n",
       "    <tr>\n",
       "      <th>Overcast</th>\n",
       "      <td>7.0</td>\n",
       "    </tr>\n",
       "    <tr>\n",
       "      <th>Rain</th>\n",
       "      <td>6.5</td>\n",
       "    </tr>\n",
       "    <tr>\n",
       "      <th>Sunny</th>\n",
       "      <td>4.5</td>\n",
       "    </tr>\n",
       "  </tbody>\n",
       "</table>\n",
       "</div>"
      ],
      "text/plain": [
       "          Wind speed\n",
       "Outlook             \n",
       "Overcast         7.0\n",
       "Rain             6.5\n",
       "Sunny            4.5"
      ]
     },
     "execution_count": 13,
     "metadata": {},
     "output_type": "execute_result"
    }
   ],
   "source": [
    "group_by_outlook_median = df.groupby('Outlook').median()\n",
    "group_by_outlook_median"
   ]
  },
  {
   "cell_type": "code",
   "execution_count": 14,
   "id": "f06043b6",
   "metadata": {},
   "outputs": [
    {
     "data": {
      "text/html": [
       "<div>\n",
       "<style scoped>\n",
       "    .dataframe tbody tr th:only-of-type {\n",
       "        vertical-align: middle;\n",
       "    }\n",
       "\n",
       "    .dataframe tbody tr th {\n",
       "        vertical-align: top;\n",
       "    }\n",
       "\n",
       "    .dataframe thead th {\n",
       "        text-align: right;\n",
       "    }\n",
       "</style>\n",
       "<table border=\"1\" class=\"dataframe\">\n",
       "  <thead>\n",
       "    <tr style=\"text-align: right;\">\n",
       "      <th></th>\n",
       "      <th>Temperature</th>\n",
       "      <th>Humidity</th>\n",
       "      <th>Wind speed</th>\n",
       "      <th>Play cricket</th>\n",
       "    </tr>\n",
       "    <tr>\n",
       "      <th>Outlook</th>\n",
       "      <th></th>\n",
       "      <th></th>\n",
       "      <th></th>\n",
       "      <th></th>\n",
       "    </tr>\n",
       "  </thead>\n",
       "  <tbody>\n",
       "    <tr>\n",
       "      <th>Overcast</th>\n",
       "      <td>Cool</td>\n",
       "      <td>High</td>\n",
       "      <td>2.0</td>\n",
       "      <td>Yes</td>\n",
       "    </tr>\n",
       "    <tr>\n",
       "      <th>Rain</th>\n",
       "      <td>Mild</td>\n",
       "      <td>Normal</td>\n",
       "      <td>2.0</td>\n",
       "      <td>Yes</td>\n",
       "    </tr>\n",
       "    <tr>\n",
       "      <th>Sunny</th>\n",
       "      <td>Cool</td>\n",
       "      <td>High</td>\n",
       "      <td>4.0</td>\n",
       "      <td>No</td>\n",
       "    </tr>\n",
       "  </tbody>\n",
       "</table>\n",
       "</div>"
      ],
      "text/plain": [
       "         Temperature Humidity  Wind speed Play cricket\n",
       "Outlook                                               \n",
       "Overcast        Cool     High         2.0          Yes\n",
       "Rain            Mild   Normal         2.0          Yes\n",
       "Sunny           Cool     High         4.0           No"
      ]
     },
     "execution_count": 14,
     "metadata": {},
     "output_type": "execute_result"
    }
   ],
   "source": [
    "group_by_outlook_mode = df.groupby('Outlook').agg(lambda x: x.mode()[0])\n",
    "group_by_outlook_mode"
   ]
  },
  {
   "cell_type": "markdown",
   "id": "5521c0c9",
   "metadata": {},
   "source": [
    "Các cell dưới đây chuyển bảng giá trị trung bình, trung vị và mode của cột Wind speed thành dạng `dict`."
   ]
  },
  {
   "cell_type": "code",
   "execution_count": 15,
   "id": "ea254744",
   "metadata": {},
   "outputs": [
    {
     "data": {
      "text/plain": [
       "{'Overcast': 9.5, 'Rain': 8.25, 'Sunny': 8.25}"
      ]
     },
     "execution_count": 15,
     "metadata": {},
     "output_type": "execute_result"
    }
   ],
   "source": [
    "replace_by_mean = group_by_outlook_mean.to_dict()['Wind speed']\n",
    "replace_by_mean"
   ]
  },
  {
   "cell_type": "code",
   "execution_count": 16,
   "id": "7f6c8ca6",
   "metadata": {
    "scrolled": true
   },
   "outputs": [
    {
     "data": {
      "text/plain": [
       "{'Overcast': 7.0, 'Rain': 6.5, 'Sunny': 4.5}"
      ]
     },
     "execution_count": 16,
     "metadata": {},
     "output_type": "execute_result"
    }
   ],
   "source": [
    "replace_by_median = group_by_outlook_median.to_dict()['Wind speed']\n",
    "replace_by_median"
   ]
  },
  {
   "cell_type": "code",
   "execution_count": 17,
   "id": "33b6f641",
   "metadata": {},
   "outputs": [
    {
     "data": {
      "text/plain": [
       "{'Overcast': 2.0, 'Rain': 2.0, 'Sunny': 4.0}"
      ]
     },
     "execution_count": 17,
     "metadata": {},
     "output_type": "execute_result"
    }
   ],
   "source": [
    "replace_by_mode = group_by_outlook_mode['Wind speed'].to_dict()\n",
    "replace_by_mode"
   ]
  },
  {
   "cell_type": "markdown",
   "id": "0ff36ef3",
   "metadata": {},
   "source": [
    "Ta sẽ thay giá trị thiếu trong Wind speed bằng cách duyệt từng dòng của `df` (sử dụng phương thức `apply` của `DataFrame`). Hàm `replace_nan` dưới đây thay thế giá trị thiếu trong cột `replace_col` của một dòng `x` bằng giá trị trung bình/trung vị tương ứng với từng nhóm trong Outlook. Tham số `replace_dict` lưu các giá trị thay thế."
   ]
  },
  {
   "cell_type": "code",
   "execution_count": 18,
   "id": "daa275bd",
   "metadata": {},
   "outputs": [],
   "source": [
    "def replace_nan(x, replace_dict, replace_col):\n",
    "    if pd.isna(x[replace_col]):\n",
    "        x[replace_col] = replace_dict[x['Outlook']]\n",
    "    return x"
   ]
  },
  {
   "cell_type": "markdown",
   "id": "f7514b9c",
   "metadata": {},
   "source": [
    "Ta thay thế bằng cách `apply` hàm `replace_nan` theo từng dòng."
   ]
  },
  {
   "cell_type": "code",
   "execution_count": 19,
   "id": "ea5dc797",
   "metadata": {},
   "outputs": [
    {
     "data": {
      "text/html": [
       "<style type=\"text/css\">\n",
       "#T_b537f_row5_col3, #T_b537f_row10_col3 {\n",
       "  color: red;\n",
       "}\n",
       "</style>\n",
       "<table id=\"T_b537f\">\n",
       "  <thead>\n",
       "    <tr>\n",
       "      <th class=\"blank level0\" >&nbsp;</th>\n",
       "      <th id=\"T_b537f_level0_col0\" class=\"col_heading level0 col0\" >Outlook</th>\n",
       "      <th id=\"T_b537f_level0_col1\" class=\"col_heading level0 col1\" >Temperature</th>\n",
       "      <th id=\"T_b537f_level0_col2\" class=\"col_heading level0 col2\" >Humidity</th>\n",
       "      <th id=\"T_b537f_level0_col3\" class=\"col_heading level0 col3\" >Wind speed</th>\n",
       "      <th id=\"T_b537f_level0_col4\" class=\"col_heading level0 col4\" >Play cricket</th>\n",
       "    </tr>\n",
       "  </thead>\n",
       "  <tbody>\n",
       "    <tr>\n",
       "      <th id=\"T_b537f_level0_row0\" class=\"row_heading level0 row0\" >0</th>\n",
       "      <td id=\"T_b537f_row0_col0\" class=\"data row0 col0\" >Sunny</td>\n",
       "      <td id=\"T_b537f_row0_col1\" class=\"data row0 col1\" >nan</td>\n",
       "      <td id=\"T_b537f_row0_col2\" class=\"data row0 col2\" >High</td>\n",
       "      <td id=\"T_b537f_row0_col3\" class=\"data row0 col3\" >4.000000</td>\n",
       "      <td id=\"T_b537f_row0_col4\" class=\"data row0 col4\" >No</td>\n",
       "    </tr>\n",
       "    <tr>\n",
       "      <th id=\"T_b537f_level0_row1\" class=\"row_heading level0 row1\" >1</th>\n",
       "      <td id=\"T_b537f_row1_col0\" class=\"data row1 col0\" >Sunny</td>\n",
       "      <td id=\"T_b537f_row1_col1\" class=\"data row1 col1\" >nan</td>\n",
       "      <td id=\"T_b537f_row1_col2\" class=\"data row1 col2\" >High</td>\n",
       "      <td id=\"T_b537f_row1_col3\" class=\"data row1 col3\" >20.000000</td>\n",
       "      <td id=\"T_b537f_row1_col4\" class=\"data row1 col4\" >No</td>\n",
       "    </tr>\n",
       "    <tr>\n",
       "      <th id=\"T_b537f_level0_row2\" class=\"row_heading level0 row2\" >2</th>\n",
       "      <td id=\"T_b537f_row2_col0\" class=\"data row2 col0\" >Overcast</td>\n",
       "      <td id=\"T_b537f_row2_col1\" class=\"data row2 col1\" >Hot</td>\n",
       "      <td id=\"T_b537f_row2_col2\" class=\"data row2 col2\" >High</td>\n",
       "      <td id=\"T_b537f_row2_col3\" class=\"data row2 col3\" >6.000000</td>\n",
       "      <td id=\"T_b537f_row2_col4\" class=\"data row2 col4\" >Yes</td>\n",
       "    </tr>\n",
       "    <tr>\n",
       "      <th id=\"T_b537f_level0_row3\" class=\"row_heading level0 row3\" >3</th>\n",
       "      <td id=\"T_b537f_row3_col0\" class=\"data row3 col0\" >Rain</td>\n",
       "      <td id=\"T_b537f_row3_col1\" class=\"data row3 col1\" >Mild</td>\n",
       "      <td id=\"T_b537f_row3_col2\" class=\"data row3 col2\" >High</td>\n",
       "      <td id=\"T_b537f_row3_col3\" class=\"data row3 col3\" >2.000000</td>\n",
       "      <td id=\"T_b537f_row3_col4\" class=\"data row3 col4\" >Yes</td>\n",
       "    </tr>\n",
       "    <tr>\n",
       "      <th id=\"T_b537f_level0_row4\" class=\"row_heading level0 row4\" >4</th>\n",
       "      <td id=\"T_b537f_row4_col0\" class=\"data row4 col0\" >Rain</td>\n",
       "      <td id=\"T_b537f_row4_col1\" class=\"data row4 col1\" >Cool</td>\n",
       "      <td id=\"T_b537f_row4_col2\" class=\"data row4 col2\" >Normal</td>\n",
       "      <td id=\"T_b537f_row4_col3\" class=\"data row4 col3\" >7.000000</td>\n",
       "      <td id=\"T_b537f_row4_col4\" class=\"data row4 col4\" >Yes</td>\n",
       "    </tr>\n",
       "    <tr>\n",
       "      <th id=\"T_b537f_level0_row5\" class=\"row_heading level0 row5\" >5</th>\n",
       "      <td id=\"T_b537f_row5_col0\" class=\"data row5 col0\" >Rain</td>\n",
       "      <td id=\"T_b537f_row5_col1\" class=\"data row5 col1\" >nan</td>\n",
       "      <td id=\"T_b537f_row5_col2\" class=\"data row5 col2\" >Normal</td>\n",
       "      <td id=\"T_b537f_row5_col3\" class=\"data row5 col3\" >8.250000</td>\n",
       "      <td id=\"T_b537f_row5_col4\" class=\"data row5 col4\" >No</td>\n",
       "    </tr>\n",
       "    <tr>\n",
       "      <th id=\"T_b537f_level0_row6\" class=\"row_heading level0 row6\" >6</th>\n",
       "      <td id=\"T_b537f_row6_col0\" class=\"data row6 col0\" >Overcast</td>\n",
       "      <td id=\"T_b537f_row6_col1\" class=\"data row6 col1\" >Cool</td>\n",
       "      <td id=\"T_b537f_row6_col2\" class=\"data row6 col2\" >Normal</td>\n",
       "      <td id=\"T_b537f_row6_col3\" class=\"data row6 col3\" >22.000000</td>\n",
       "      <td id=\"T_b537f_row6_col4\" class=\"data row6 col4\" >Yes</td>\n",
       "    </tr>\n",
       "    <tr>\n",
       "      <th id=\"T_b537f_level0_row7\" class=\"row_heading level0 row7\" >7</th>\n",
       "      <td id=\"T_b537f_row7_col0\" class=\"data row7 col0\" >Sunny</td>\n",
       "      <td id=\"T_b537f_row7_col1\" class=\"data row7 col1\" >nan</td>\n",
       "      <td id=\"T_b537f_row7_col2\" class=\"data row7 col2\" >High</td>\n",
       "      <td id=\"T_b537f_row7_col3\" class=\"data row7 col3\" >4.000000</td>\n",
       "      <td id=\"T_b537f_row7_col4\" class=\"data row7 col4\" >No</td>\n",
       "    </tr>\n",
       "    <tr>\n",
       "      <th id=\"T_b537f_level0_row8\" class=\"row_heading level0 row8\" >8</th>\n",
       "      <td id=\"T_b537f_row8_col0\" class=\"data row8 col0\" >Sunny</td>\n",
       "      <td id=\"T_b537f_row8_col1\" class=\"data row8 col1\" >Cool</td>\n",
       "      <td id=\"T_b537f_row8_col2\" class=\"data row8 col2\" >Normal</td>\n",
       "      <td id=\"T_b537f_row8_col3\" class=\"data row8 col3\" >5.000000</td>\n",
       "      <td id=\"T_b537f_row8_col4\" class=\"data row8 col4\" >Yes</td>\n",
       "    </tr>\n",
       "    <tr>\n",
       "      <th id=\"T_b537f_level0_row9\" class=\"row_heading level0 row9\" >9</th>\n",
       "      <td id=\"T_b537f_row9_col0\" class=\"data row9 col0\" >Rain</td>\n",
       "      <td id=\"T_b537f_row9_col1\" class=\"data row9 col1\" >Mild</td>\n",
       "      <td id=\"T_b537f_row9_col2\" class=\"data row9 col2\" >Normal</td>\n",
       "      <td id=\"T_b537f_row9_col3\" class=\"data row9 col3\" >6.000000</td>\n",
       "      <td id=\"T_b537f_row9_col4\" class=\"data row9 col4\" >Yes</td>\n",
       "    </tr>\n",
       "    <tr>\n",
       "      <th id=\"T_b537f_level0_row10\" class=\"row_heading level0 row10\" >10</th>\n",
       "      <td id=\"T_b537f_row10_col0\" class=\"data row10 col0\" >Sunny</td>\n",
       "      <td id=\"T_b537f_row10_col1\" class=\"data row10 col1\" >Mild</td>\n",
       "      <td id=\"T_b537f_row10_col2\" class=\"data row10 col2\" >Normal</td>\n",
       "      <td id=\"T_b537f_row10_col3\" class=\"data row10 col3\" >8.250000</td>\n",
       "      <td id=\"T_b537f_row10_col4\" class=\"data row10 col4\" >Yes</td>\n",
       "    </tr>\n",
       "    <tr>\n",
       "      <th id=\"T_b537f_level0_row11\" class=\"row_heading level0 row11\" >11</th>\n",
       "      <td id=\"T_b537f_row11_col0\" class=\"data row11 col0\" >Overcast</td>\n",
       "      <td id=\"T_b537f_row11_col1\" class=\"data row11 col1\" >Mild</td>\n",
       "      <td id=\"T_b537f_row11_col2\" class=\"data row11 col2\" >High</td>\n",
       "      <td id=\"T_b537f_row11_col3\" class=\"data row11 col3\" >2.000000</td>\n",
       "      <td id=\"T_b537f_row11_col4\" class=\"data row11 col4\" >Yes</td>\n",
       "    </tr>\n",
       "    <tr>\n",
       "      <th id=\"T_b537f_level0_row12\" class=\"row_heading level0 row12\" >12</th>\n",
       "      <td id=\"T_b537f_row12_col0\" class=\"data row12 col0\" >Overcast</td>\n",
       "      <td id=\"T_b537f_row12_col1\" class=\"data row12 col1\" >nan</td>\n",
       "      <td id=\"T_b537f_row12_col2\" class=\"data row12 col2\" >Normal</td>\n",
       "      <td id=\"T_b537f_row12_col3\" class=\"data row12 col3\" >8.000000</td>\n",
       "      <td id=\"T_b537f_row12_col4\" class=\"data row12 col4\" >Yes</td>\n",
       "    </tr>\n",
       "    <tr>\n",
       "      <th id=\"T_b537f_level0_row13\" class=\"row_heading level0 row13\" >13</th>\n",
       "      <td id=\"T_b537f_row13_col0\" class=\"data row13 col0\" >Rain</td>\n",
       "      <td id=\"T_b537f_row13_col1\" class=\"data row13 col1\" >Mild</td>\n",
       "      <td id=\"T_b537f_row13_col2\" class=\"data row13 col2\" >High</td>\n",
       "      <td id=\"T_b537f_row13_col3\" class=\"data row13 col3\" >18.000000</td>\n",
       "      <td id=\"T_b537f_row13_col4\" class=\"data row13 col4\" >No</td>\n",
       "    </tr>\n",
       "  </tbody>\n",
       "</table>\n"
      ],
      "text/plain": [
       "<pandas.io.formats.style.Styler at 0x7f615bb7ea60>"
      ]
     },
     "execution_count": 19,
     "metadata": {},
     "output_type": "execute_result"
    }
   ],
   "source": [
    "ws_replaced_mean_df = df.apply(replace_nan, axis=1, replace_dict=replace_by_mean, replace_col='Wind speed')\n",
    "highlight_originally_missing_cells(ws_replaced_mean_df, ws_missing_cells)"
   ]
  },
  {
   "cell_type": "code",
   "execution_count": 20,
   "id": "cbb3688a",
   "metadata": {},
   "outputs": [
    {
     "data": {
      "text/html": [
       "<style type=\"text/css\">\n",
       "#T_a1615_row5_col3, #T_a1615_row10_col3 {\n",
       "  color: red;\n",
       "}\n",
       "</style>\n",
       "<table id=\"T_a1615\">\n",
       "  <thead>\n",
       "    <tr>\n",
       "      <th class=\"blank level0\" >&nbsp;</th>\n",
       "      <th id=\"T_a1615_level0_col0\" class=\"col_heading level0 col0\" >Outlook</th>\n",
       "      <th id=\"T_a1615_level0_col1\" class=\"col_heading level0 col1\" >Temperature</th>\n",
       "      <th id=\"T_a1615_level0_col2\" class=\"col_heading level0 col2\" >Humidity</th>\n",
       "      <th id=\"T_a1615_level0_col3\" class=\"col_heading level0 col3\" >Wind speed</th>\n",
       "      <th id=\"T_a1615_level0_col4\" class=\"col_heading level0 col4\" >Play cricket</th>\n",
       "    </tr>\n",
       "  </thead>\n",
       "  <tbody>\n",
       "    <tr>\n",
       "      <th id=\"T_a1615_level0_row0\" class=\"row_heading level0 row0\" >0</th>\n",
       "      <td id=\"T_a1615_row0_col0\" class=\"data row0 col0\" >Sunny</td>\n",
       "      <td id=\"T_a1615_row0_col1\" class=\"data row0 col1\" >nan</td>\n",
       "      <td id=\"T_a1615_row0_col2\" class=\"data row0 col2\" >High</td>\n",
       "      <td id=\"T_a1615_row0_col3\" class=\"data row0 col3\" >4.000000</td>\n",
       "      <td id=\"T_a1615_row0_col4\" class=\"data row0 col4\" >No</td>\n",
       "    </tr>\n",
       "    <tr>\n",
       "      <th id=\"T_a1615_level0_row1\" class=\"row_heading level0 row1\" >1</th>\n",
       "      <td id=\"T_a1615_row1_col0\" class=\"data row1 col0\" >Sunny</td>\n",
       "      <td id=\"T_a1615_row1_col1\" class=\"data row1 col1\" >nan</td>\n",
       "      <td id=\"T_a1615_row1_col2\" class=\"data row1 col2\" >High</td>\n",
       "      <td id=\"T_a1615_row1_col3\" class=\"data row1 col3\" >20.000000</td>\n",
       "      <td id=\"T_a1615_row1_col4\" class=\"data row1 col4\" >No</td>\n",
       "    </tr>\n",
       "    <tr>\n",
       "      <th id=\"T_a1615_level0_row2\" class=\"row_heading level0 row2\" >2</th>\n",
       "      <td id=\"T_a1615_row2_col0\" class=\"data row2 col0\" >Overcast</td>\n",
       "      <td id=\"T_a1615_row2_col1\" class=\"data row2 col1\" >Hot</td>\n",
       "      <td id=\"T_a1615_row2_col2\" class=\"data row2 col2\" >High</td>\n",
       "      <td id=\"T_a1615_row2_col3\" class=\"data row2 col3\" >6.000000</td>\n",
       "      <td id=\"T_a1615_row2_col4\" class=\"data row2 col4\" >Yes</td>\n",
       "    </tr>\n",
       "    <tr>\n",
       "      <th id=\"T_a1615_level0_row3\" class=\"row_heading level0 row3\" >3</th>\n",
       "      <td id=\"T_a1615_row3_col0\" class=\"data row3 col0\" >Rain</td>\n",
       "      <td id=\"T_a1615_row3_col1\" class=\"data row3 col1\" >Mild</td>\n",
       "      <td id=\"T_a1615_row3_col2\" class=\"data row3 col2\" >High</td>\n",
       "      <td id=\"T_a1615_row3_col3\" class=\"data row3 col3\" >2.000000</td>\n",
       "      <td id=\"T_a1615_row3_col4\" class=\"data row3 col4\" >Yes</td>\n",
       "    </tr>\n",
       "    <tr>\n",
       "      <th id=\"T_a1615_level0_row4\" class=\"row_heading level0 row4\" >4</th>\n",
       "      <td id=\"T_a1615_row4_col0\" class=\"data row4 col0\" >Rain</td>\n",
       "      <td id=\"T_a1615_row4_col1\" class=\"data row4 col1\" >Cool</td>\n",
       "      <td id=\"T_a1615_row4_col2\" class=\"data row4 col2\" >Normal</td>\n",
       "      <td id=\"T_a1615_row4_col3\" class=\"data row4 col3\" >7.000000</td>\n",
       "      <td id=\"T_a1615_row4_col4\" class=\"data row4 col4\" >Yes</td>\n",
       "    </tr>\n",
       "    <tr>\n",
       "      <th id=\"T_a1615_level0_row5\" class=\"row_heading level0 row5\" >5</th>\n",
       "      <td id=\"T_a1615_row5_col0\" class=\"data row5 col0\" >Rain</td>\n",
       "      <td id=\"T_a1615_row5_col1\" class=\"data row5 col1\" >nan</td>\n",
       "      <td id=\"T_a1615_row5_col2\" class=\"data row5 col2\" >Normal</td>\n",
       "      <td id=\"T_a1615_row5_col3\" class=\"data row5 col3\" >6.500000</td>\n",
       "      <td id=\"T_a1615_row5_col4\" class=\"data row5 col4\" >No</td>\n",
       "    </tr>\n",
       "    <tr>\n",
       "      <th id=\"T_a1615_level0_row6\" class=\"row_heading level0 row6\" >6</th>\n",
       "      <td id=\"T_a1615_row6_col0\" class=\"data row6 col0\" >Overcast</td>\n",
       "      <td id=\"T_a1615_row6_col1\" class=\"data row6 col1\" >Cool</td>\n",
       "      <td id=\"T_a1615_row6_col2\" class=\"data row6 col2\" >Normal</td>\n",
       "      <td id=\"T_a1615_row6_col3\" class=\"data row6 col3\" >22.000000</td>\n",
       "      <td id=\"T_a1615_row6_col4\" class=\"data row6 col4\" >Yes</td>\n",
       "    </tr>\n",
       "    <tr>\n",
       "      <th id=\"T_a1615_level0_row7\" class=\"row_heading level0 row7\" >7</th>\n",
       "      <td id=\"T_a1615_row7_col0\" class=\"data row7 col0\" >Sunny</td>\n",
       "      <td id=\"T_a1615_row7_col1\" class=\"data row7 col1\" >nan</td>\n",
       "      <td id=\"T_a1615_row7_col2\" class=\"data row7 col2\" >High</td>\n",
       "      <td id=\"T_a1615_row7_col3\" class=\"data row7 col3\" >4.000000</td>\n",
       "      <td id=\"T_a1615_row7_col4\" class=\"data row7 col4\" >No</td>\n",
       "    </tr>\n",
       "    <tr>\n",
       "      <th id=\"T_a1615_level0_row8\" class=\"row_heading level0 row8\" >8</th>\n",
       "      <td id=\"T_a1615_row8_col0\" class=\"data row8 col0\" >Sunny</td>\n",
       "      <td id=\"T_a1615_row8_col1\" class=\"data row8 col1\" >Cool</td>\n",
       "      <td id=\"T_a1615_row8_col2\" class=\"data row8 col2\" >Normal</td>\n",
       "      <td id=\"T_a1615_row8_col3\" class=\"data row8 col3\" >5.000000</td>\n",
       "      <td id=\"T_a1615_row8_col4\" class=\"data row8 col4\" >Yes</td>\n",
       "    </tr>\n",
       "    <tr>\n",
       "      <th id=\"T_a1615_level0_row9\" class=\"row_heading level0 row9\" >9</th>\n",
       "      <td id=\"T_a1615_row9_col0\" class=\"data row9 col0\" >Rain</td>\n",
       "      <td id=\"T_a1615_row9_col1\" class=\"data row9 col1\" >Mild</td>\n",
       "      <td id=\"T_a1615_row9_col2\" class=\"data row9 col2\" >Normal</td>\n",
       "      <td id=\"T_a1615_row9_col3\" class=\"data row9 col3\" >6.000000</td>\n",
       "      <td id=\"T_a1615_row9_col4\" class=\"data row9 col4\" >Yes</td>\n",
       "    </tr>\n",
       "    <tr>\n",
       "      <th id=\"T_a1615_level0_row10\" class=\"row_heading level0 row10\" >10</th>\n",
       "      <td id=\"T_a1615_row10_col0\" class=\"data row10 col0\" >Sunny</td>\n",
       "      <td id=\"T_a1615_row10_col1\" class=\"data row10 col1\" >Mild</td>\n",
       "      <td id=\"T_a1615_row10_col2\" class=\"data row10 col2\" >Normal</td>\n",
       "      <td id=\"T_a1615_row10_col3\" class=\"data row10 col3\" >4.500000</td>\n",
       "      <td id=\"T_a1615_row10_col4\" class=\"data row10 col4\" >Yes</td>\n",
       "    </tr>\n",
       "    <tr>\n",
       "      <th id=\"T_a1615_level0_row11\" class=\"row_heading level0 row11\" >11</th>\n",
       "      <td id=\"T_a1615_row11_col0\" class=\"data row11 col0\" >Overcast</td>\n",
       "      <td id=\"T_a1615_row11_col1\" class=\"data row11 col1\" >Mild</td>\n",
       "      <td id=\"T_a1615_row11_col2\" class=\"data row11 col2\" >High</td>\n",
       "      <td id=\"T_a1615_row11_col3\" class=\"data row11 col3\" >2.000000</td>\n",
       "      <td id=\"T_a1615_row11_col4\" class=\"data row11 col4\" >Yes</td>\n",
       "    </tr>\n",
       "    <tr>\n",
       "      <th id=\"T_a1615_level0_row12\" class=\"row_heading level0 row12\" >12</th>\n",
       "      <td id=\"T_a1615_row12_col0\" class=\"data row12 col0\" >Overcast</td>\n",
       "      <td id=\"T_a1615_row12_col1\" class=\"data row12 col1\" >nan</td>\n",
       "      <td id=\"T_a1615_row12_col2\" class=\"data row12 col2\" >Normal</td>\n",
       "      <td id=\"T_a1615_row12_col3\" class=\"data row12 col3\" >8.000000</td>\n",
       "      <td id=\"T_a1615_row12_col4\" class=\"data row12 col4\" >Yes</td>\n",
       "    </tr>\n",
       "    <tr>\n",
       "      <th id=\"T_a1615_level0_row13\" class=\"row_heading level0 row13\" >13</th>\n",
       "      <td id=\"T_a1615_row13_col0\" class=\"data row13 col0\" >Rain</td>\n",
       "      <td id=\"T_a1615_row13_col1\" class=\"data row13 col1\" >Mild</td>\n",
       "      <td id=\"T_a1615_row13_col2\" class=\"data row13 col2\" >High</td>\n",
       "      <td id=\"T_a1615_row13_col3\" class=\"data row13 col3\" >18.000000</td>\n",
       "      <td id=\"T_a1615_row13_col4\" class=\"data row13 col4\" >No</td>\n",
       "    </tr>\n",
       "  </tbody>\n",
       "</table>\n"
      ],
      "text/plain": [
       "<pandas.io.formats.style.Styler at 0x7f615baff400>"
      ]
     },
     "execution_count": 20,
     "metadata": {},
     "output_type": "execute_result"
    }
   ],
   "source": [
    "ws_replaced_median_df = df.apply(replace_nan, axis=1, replace_dict=replace_by_median, replace_col='Wind speed')\n",
    "highlight_originally_missing_cells(ws_replaced_median_df, ws_missing_cells)"
   ]
  },
  {
   "cell_type": "code",
   "execution_count": 21,
   "id": "b022204d",
   "metadata": {},
   "outputs": [
    {
     "data": {
      "text/html": [
       "<style type=\"text/css\">\n",
       "#T_ed762_row5_col3, #T_ed762_row10_col3 {\n",
       "  color: red;\n",
       "}\n",
       "</style>\n",
       "<table id=\"T_ed762\">\n",
       "  <thead>\n",
       "    <tr>\n",
       "      <th class=\"blank level0\" >&nbsp;</th>\n",
       "      <th id=\"T_ed762_level0_col0\" class=\"col_heading level0 col0\" >Outlook</th>\n",
       "      <th id=\"T_ed762_level0_col1\" class=\"col_heading level0 col1\" >Temperature</th>\n",
       "      <th id=\"T_ed762_level0_col2\" class=\"col_heading level0 col2\" >Humidity</th>\n",
       "      <th id=\"T_ed762_level0_col3\" class=\"col_heading level0 col3\" >Wind speed</th>\n",
       "      <th id=\"T_ed762_level0_col4\" class=\"col_heading level0 col4\" >Play cricket</th>\n",
       "    </tr>\n",
       "  </thead>\n",
       "  <tbody>\n",
       "    <tr>\n",
       "      <th id=\"T_ed762_level0_row0\" class=\"row_heading level0 row0\" >0</th>\n",
       "      <td id=\"T_ed762_row0_col0\" class=\"data row0 col0\" >Sunny</td>\n",
       "      <td id=\"T_ed762_row0_col1\" class=\"data row0 col1\" >nan</td>\n",
       "      <td id=\"T_ed762_row0_col2\" class=\"data row0 col2\" >High</td>\n",
       "      <td id=\"T_ed762_row0_col3\" class=\"data row0 col3\" >4.000000</td>\n",
       "      <td id=\"T_ed762_row0_col4\" class=\"data row0 col4\" >No</td>\n",
       "    </tr>\n",
       "    <tr>\n",
       "      <th id=\"T_ed762_level0_row1\" class=\"row_heading level0 row1\" >1</th>\n",
       "      <td id=\"T_ed762_row1_col0\" class=\"data row1 col0\" >Sunny</td>\n",
       "      <td id=\"T_ed762_row1_col1\" class=\"data row1 col1\" >nan</td>\n",
       "      <td id=\"T_ed762_row1_col2\" class=\"data row1 col2\" >High</td>\n",
       "      <td id=\"T_ed762_row1_col3\" class=\"data row1 col3\" >20.000000</td>\n",
       "      <td id=\"T_ed762_row1_col4\" class=\"data row1 col4\" >No</td>\n",
       "    </tr>\n",
       "    <tr>\n",
       "      <th id=\"T_ed762_level0_row2\" class=\"row_heading level0 row2\" >2</th>\n",
       "      <td id=\"T_ed762_row2_col0\" class=\"data row2 col0\" >Overcast</td>\n",
       "      <td id=\"T_ed762_row2_col1\" class=\"data row2 col1\" >Hot</td>\n",
       "      <td id=\"T_ed762_row2_col2\" class=\"data row2 col2\" >High</td>\n",
       "      <td id=\"T_ed762_row2_col3\" class=\"data row2 col3\" >6.000000</td>\n",
       "      <td id=\"T_ed762_row2_col4\" class=\"data row2 col4\" >Yes</td>\n",
       "    </tr>\n",
       "    <tr>\n",
       "      <th id=\"T_ed762_level0_row3\" class=\"row_heading level0 row3\" >3</th>\n",
       "      <td id=\"T_ed762_row3_col0\" class=\"data row3 col0\" >Rain</td>\n",
       "      <td id=\"T_ed762_row3_col1\" class=\"data row3 col1\" >Mild</td>\n",
       "      <td id=\"T_ed762_row3_col2\" class=\"data row3 col2\" >High</td>\n",
       "      <td id=\"T_ed762_row3_col3\" class=\"data row3 col3\" >2.000000</td>\n",
       "      <td id=\"T_ed762_row3_col4\" class=\"data row3 col4\" >Yes</td>\n",
       "    </tr>\n",
       "    <tr>\n",
       "      <th id=\"T_ed762_level0_row4\" class=\"row_heading level0 row4\" >4</th>\n",
       "      <td id=\"T_ed762_row4_col0\" class=\"data row4 col0\" >Rain</td>\n",
       "      <td id=\"T_ed762_row4_col1\" class=\"data row4 col1\" >Cool</td>\n",
       "      <td id=\"T_ed762_row4_col2\" class=\"data row4 col2\" >Normal</td>\n",
       "      <td id=\"T_ed762_row4_col3\" class=\"data row4 col3\" >7.000000</td>\n",
       "      <td id=\"T_ed762_row4_col4\" class=\"data row4 col4\" >Yes</td>\n",
       "    </tr>\n",
       "    <tr>\n",
       "      <th id=\"T_ed762_level0_row5\" class=\"row_heading level0 row5\" >5</th>\n",
       "      <td id=\"T_ed762_row5_col0\" class=\"data row5 col0\" >Rain</td>\n",
       "      <td id=\"T_ed762_row5_col1\" class=\"data row5 col1\" >nan</td>\n",
       "      <td id=\"T_ed762_row5_col2\" class=\"data row5 col2\" >Normal</td>\n",
       "      <td id=\"T_ed762_row5_col3\" class=\"data row5 col3\" >2.000000</td>\n",
       "      <td id=\"T_ed762_row5_col4\" class=\"data row5 col4\" >No</td>\n",
       "    </tr>\n",
       "    <tr>\n",
       "      <th id=\"T_ed762_level0_row6\" class=\"row_heading level0 row6\" >6</th>\n",
       "      <td id=\"T_ed762_row6_col0\" class=\"data row6 col0\" >Overcast</td>\n",
       "      <td id=\"T_ed762_row6_col1\" class=\"data row6 col1\" >Cool</td>\n",
       "      <td id=\"T_ed762_row6_col2\" class=\"data row6 col2\" >Normal</td>\n",
       "      <td id=\"T_ed762_row6_col3\" class=\"data row6 col3\" >22.000000</td>\n",
       "      <td id=\"T_ed762_row6_col4\" class=\"data row6 col4\" >Yes</td>\n",
       "    </tr>\n",
       "    <tr>\n",
       "      <th id=\"T_ed762_level0_row7\" class=\"row_heading level0 row7\" >7</th>\n",
       "      <td id=\"T_ed762_row7_col0\" class=\"data row7 col0\" >Sunny</td>\n",
       "      <td id=\"T_ed762_row7_col1\" class=\"data row7 col1\" >nan</td>\n",
       "      <td id=\"T_ed762_row7_col2\" class=\"data row7 col2\" >High</td>\n",
       "      <td id=\"T_ed762_row7_col3\" class=\"data row7 col3\" >4.000000</td>\n",
       "      <td id=\"T_ed762_row7_col4\" class=\"data row7 col4\" >No</td>\n",
       "    </tr>\n",
       "    <tr>\n",
       "      <th id=\"T_ed762_level0_row8\" class=\"row_heading level0 row8\" >8</th>\n",
       "      <td id=\"T_ed762_row8_col0\" class=\"data row8 col0\" >Sunny</td>\n",
       "      <td id=\"T_ed762_row8_col1\" class=\"data row8 col1\" >Cool</td>\n",
       "      <td id=\"T_ed762_row8_col2\" class=\"data row8 col2\" >Normal</td>\n",
       "      <td id=\"T_ed762_row8_col3\" class=\"data row8 col3\" >5.000000</td>\n",
       "      <td id=\"T_ed762_row8_col4\" class=\"data row8 col4\" >Yes</td>\n",
       "    </tr>\n",
       "    <tr>\n",
       "      <th id=\"T_ed762_level0_row9\" class=\"row_heading level0 row9\" >9</th>\n",
       "      <td id=\"T_ed762_row9_col0\" class=\"data row9 col0\" >Rain</td>\n",
       "      <td id=\"T_ed762_row9_col1\" class=\"data row9 col1\" >Mild</td>\n",
       "      <td id=\"T_ed762_row9_col2\" class=\"data row9 col2\" >Normal</td>\n",
       "      <td id=\"T_ed762_row9_col3\" class=\"data row9 col3\" >6.000000</td>\n",
       "      <td id=\"T_ed762_row9_col4\" class=\"data row9 col4\" >Yes</td>\n",
       "    </tr>\n",
       "    <tr>\n",
       "      <th id=\"T_ed762_level0_row10\" class=\"row_heading level0 row10\" >10</th>\n",
       "      <td id=\"T_ed762_row10_col0\" class=\"data row10 col0\" >Sunny</td>\n",
       "      <td id=\"T_ed762_row10_col1\" class=\"data row10 col1\" >Mild</td>\n",
       "      <td id=\"T_ed762_row10_col2\" class=\"data row10 col2\" >Normal</td>\n",
       "      <td id=\"T_ed762_row10_col3\" class=\"data row10 col3\" >4.000000</td>\n",
       "      <td id=\"T_ed762_row10_col4\" class=\"data row10 col4\" >Yes</td>\n",
       "    </tr>\n",
       "    <tr>\n",
       "      <th id=\"T_ed762_level0_row11\" class=\"row_heading level0 row11\" >11</th>\n",
       "      <td id=\"T_ed762_row11_col0\" class=\"data row11 col0\" >Overcast</td>\n",
       "      <td id=\"T_ed762_row11_col1\" class=\"data row11 col1\" >Mild</td>\n",
       "      <td id=\"T_ed762_row11_col2\" class=\"data row11 col2\" >High</td>\n",
       "      <td id=\"T_ed762_row11_col3\" class=\"data row11 col3\" >2.000000</td>\n",
       "      <td id=\"T_ed762_row11_col4\" class=\"data row11 col4\" >Yes</td>\n",
       "    </tr>\n",
       "    <tr>\n",
       "      <th id=\"T_ed762_level0_row12\" class=\"row_heading level0 row12\" >12</th>\n",
       "      <td id=\"T_ed762_row12_col0\" class=\"data row12 col0\" >Overcast</td>\n",
       "      <td id=\"T_ed762_row12_col1\" class=\"data row12 col1\" >nan</td>\n",
       "      <td id=\"T_ed762_row12_col2\" class=\"data row12 col2\" >Normal</td>\n",
       "      <td id=\"T_ed762_row12_col3\" class=\"data row12 col3\" >8.000000</td>\n",
       "      <td id=\"T_ed762_row12_col4\" class=\"data row12 col4\" >Yes</td>\n",
       "    </tr>\n",
       "    <tr>\n",
       "      <th id=\"T_ed762_level0_row13\" class=\"row_heading level0 row13\" >13</th>\n",
       "      <td id=\"T_ed762_row13_col0\" class=\"data row13 col0\" >Rain</td>\n",
       "      <td id=\"T_ed762_row13_col1\" class=\"data row13 col1\" >Mild</td>\n",
       "      <td id=\"T_ed762_row13_col2\" class=\"data row13 col2\" >High</td>\n",
       "      <td id=\"T_ed762_row13_col3\" class=\"data row13 col3\" >18.000000</td>\n",
       "      <td id=\"T_ed762_row13_col4\" class=\"data row13 col4\" >No</td>\n",
       "    </tr>\n",
       "  </tbody>\n",
       "</table>\n"
      ],
      "text/plain": [
       "<pandas.io.formats.style.Styler at 0x7f615baed460>"
      ]
     },
     "execution_count": 21,
     "metadata": {},
     "output_type": "execute_result"
    }
   ],
   "source": [
    "ws_replaced_mode_df = df.apply(replace_nan, axis=1, replace_dict=replace_by_mode, replace_col='Wind speed')\n",
    "highlight_originally_missing_cells(ws_replaced_mode_df, ws_missing_cells)"
   ]
  },
  {
   "cell_type": "markdown",
   "id": "03825af2",
   "metadata": {},
   "source": [
    "## Cột Temperature"
   ]
  },
  {
   "cell_type": "code",
   "execution_count": 22,
   "id": "19bad19b",
   "metadata": {},
   "outputs": [
    {
     "data": {
      "text/plain": [
       "{'Temperature': [0, 1, 5, 7, 12]}"
      ]
     },
     "execution_count": 22,
     "metadata": {},
     "output_type": "execute_result"
    }
   ],
   "source": [
    "temp_missing_cells = slice_dict(original_missing_cells, key='Temperature')\n",
    "temp_missing_cells"
   ]
  },
  {
   "cell_type": "markdown",
   "id": "ad5ee921",
   "metadata": {},
   "source": [
    "### Cách 1: Điền bằng giá trị mode"
   ]
  },
  {
   "cell_type": "code",
   "execution_count": 23,
   "id": "41c2df00",
   "metadata": {},
   "outputs": [
    {
     "data": {
      "text/plain": [
       "0    Mild\n",
       "Name: Temperature, dtype: object"
      ]
     },
     "execution_count": 23,
     "metadata": {},
     "output_type": "execute_result"
    }
   ],
   "source": [
    "df['Temperature'].mode()"
   ]
  },
  {
   "cell_type": "code",
   "execution_count": 24,
   "id": "2b6853a4",
   "metadata": {},
   "outputs": [
    {
     "data": {
      "text/html": [
       "<style type=\"text/css\">\n",
       "#T_adc8e_row0_col1, #T_adc8e_row1_col1, #T_adc8e_row5_col1, #T_adc8e_row7_col1, #T_adc8e_row12_col1 {\n",
       "  color: red;\n",
       "}\n",
       "</style>\n",
       "<table id=\"T_adc8e\">\n",
       "  <thead>\n",
       "    <tr>\n",
       "      <th class=\"blank level0\" >&nbsp;</th>\n",
       "      <th id=\"T_adc8e_level0_col0\" class=\"col_heading level0 col0\" >Outlook</th>\n",
       "      <th id=\"T_adc8e_level0_col1\" class=\"col_heading level0 col1\" >Temperature</th>\n",
       "      <th id=\"T_adc8e_level0_col2\" class=\"col_heading level0 col2\" >Humidity</th>\n",
       "      <th id=\"T_adc8e_level0_col3\" class=\"col_heading level0 col3\" >Wind speed</th>\n",
       "      <th id=\"T_adc8e_level0_col4\" class=\"col_heading level0 col4\" >Play cricket</th>\n",
       "    </tr>\n",
       "  </thead>\n",
       "  <tbody>\n",
       "    <tr>\n",
       "      <th id=\"T_adc8e_level0_row0\" class=\"row_heading level0 row0\" >0</th>\n",
       "      <td id=\"T_adc8e_row0_col0\" class=\"data row0 col0\" >Sunny</td>\n",
       "      <td id=\"T_adc8e_row0_col1\" class=\"data row0 col1\" >Mild</td>\n",
       "      <td id=\"T_adc8e_row0_col2\" class=\"data row0 col2\" >High</td>\n",
       "      <td id=\"T_adc8e_row0_col3\" class=\"data row0 col3\" >4.000000</td>\n",
       "      <td id=\"T_adc8e_row0_col4\" class=\"data row0 col4\" >No</td>\n",
       "    </tr>\n",
       "    <tr>\n",
       "      <th id=\"T_adc8e_level0_row1\" class=\"row_heading level0 row1\" >1</th>\n",
       "      <td id=\"T_adc8e_row1_col0\" class=\"data row1 col0\" >Sunny</td>\n",
       "      <td id=\"T_adc8e_row1_col1\" class=\"data row1 col1\" >Mild</td>\n",
       "      <td id=\"T_adc8e_row1_col2\" class=\"data row1 col2\" >High</td>\n",
       "      <td id=\"T_adc8e_row1_col3\" class=\"data row1 col3\" >20.000000</td>\n",
       "      <td id=\"T_adc8e_row1_col4\" class=\"data row1 col4\" >No</td>\n",
       "    </tr>\n",
       "    <tr>\n",
       "      <th id=\"T_adc8e_level0_row2\" class=\"row_heading level0 row2\" >2</th>\n",
       "      <td id=\"T_adc8e_row2_col0\" class=\"data row2 col0\" >Overcast</td>\n",
       "      <td id=\"T_adc8e_row2_col1\" class=\"data row2 col1\" >Hot</td>\n",
       "      <td id=\"T_adc8e_row2_col2\" class=\"data row2 col2\" >High</td>\n",
       "      <td id=\"T_adc8e_row2_col3\" class=\"data row2 col3\" >6.000000</td>\n",
       "      <td id=\"T_adc8e_row2_col4\" class=\"data row2 col4\" >Yes</td>\n",
       "    </tr>\n",
       "    <tr>\n",
       "      <th id=\"T_adc8e_level0_row3\" class=\"row_heading level0 row3\" >3</th>\n",
       "      <td id=\"T_adc8e_row3_col0\" class=\"data row3 col0\" >Rain</td>\n",
       "      <td id=\"T_adc8e_row3_col1\" class=\"data row3 col1\" >Mild</td>\n",
       "      <td id=\"T_adc8e_row3_col2\" class=\"data row3 col2\" >High</td>\n",
       "      <td id=\"T_adc8e_row3_col3\" class=\"data row3 col3\" >2.000000</td>\n",
       "      <td id=\"T_adc8e_row3_col4\" class=\"data row3 col4\" >Yes</td>\n",
       "    </tr>\n",
       "    <tr>\n",
       "      <th id=\"T_adc8e_level0_row4\" class=\"row_heading level0 row4\" >4</th>\n",
       "      <td id=\"T_adc8e_row4_col0\" class=\"data row4 col0\" >Rain</td>\n",
       "      <td id=\"T_adc8e_row4_col1\" class=\"data row4 col1\" >Cool</td>\n",
       "      <td id=\"T_adc8e_row4_col2\" class=\"data row4 col2\" >Normal</td>\n",
       "      <td id=\"T_adc8e_row4_col3\" class=\"data row4 col3\" >7.000000</td>\n",
       "      <td id=\"T_adc8e_row4_col4\" class=\"data row4 col4\" >Yes</td>\n",
       "    </tr>\n",
       "    <tr>\n",
       "      <th id=\"T_adc8e_level0_row5\" class=\"row_heading level0 row5\" >5</th>\n",
       "      <td id=\"T_adc8e_row5_col0\" class=\"data row5 col0\" >Rain</td>\n",
       "      <td id=\"T_adc8e_row5_col1\" class=\"data row5 col1\" >Mild</td>\n",
       "      <td id=\"T_adc8e_row5_col2\" class=\"data row5 col2\" >Normal</td>\n",
       "      <td id=\"T_adc8e_row5_col3\" class=\"data row5 col3\" >nan</td>\n",
       "      <td id=\"T_adc8e_row5_col4\" class=\"data row5 col4\" >No</td>\n",
       "    </tr>\n",
       "    <tr>\n",
       "      <th id=\"T_adc8e_level0_row6\" class=\"row_heading level0 row6\" >6</th>\n",
       "      <td id=\"T_adc8e_row6_col0\" class=\"data row6 col0\" >Overcast</td>\n",
       "      <td id=\"T_adc8e_row6_col1\" class=\"data row6 col1\" >Cool</td>\n",
       "      <td id=\"T_adc8e_row6_col2\" class=\"data row6 col2\" >Normal</td>\n",
       "      <td id=\"T_adc8e_row6_col3\" class=\"data row6 col3\" >22.000000</td>\n",
       "      <td id=\"T_adc8e_row6_col4\" class=\"data row6 col4\" >Yes</td>\n",
       "    </tr>\n",
       "    <tr>\n",
       "      <th id=\"T_adc8e_level0_row7\" class=\"row_heading level0 row7\" >7</th>\n",
       "      <td id=\"T_adc8e_row7_col0\" class=\"data row7 col0\" >Sunny</td>\n",
       "      <td id=\"T_adc8e_row7_col1\" class=\"data row7 col1\" >Mild</td>\n",
       "      <td id=\"T_adc8e_row7_col2\" class=\"data row7 col2\" >High</td>\n",
       "      <td id=\"T_adc8e_row7_col3\" class=\"data row7 col3\" >4.000000</td>\n",
       "      <td id=\"T_adc8e_row7_col4\" class=\"data row7 col4\" >No</td>\n",
       "    </tr>\n",
       "    <tr>\n",
       "      <th id=\"T_adc8e_level0_row8\" class=\"row_heading level0 row8\" >8</th>\n",
       "      <td id=\"T_adc8e_row8_col0\" class=\"data row8 col0\" >Sunny</td>\n",
       "      <td id=\"T_adc8e_row8_col1\" class=\"data row8 col1\" >Cool</td>\n",
       "      <td id=\"T_adc8e_row8_col2\" class=\"data row8 col2\" >Normal</td>\n",
       "      <td id=\"T_adc8e_row8_col3\" class=\"data row8 col3\" >5.000000</td>\n",
       "      <td id=\"T_adc8e_row8_col4\" class=\"data row8 col4\" >Yes</td>\n",
       "    </tr>\n",
       "    <tr>\n",
       "      <th id=\"T_adc8e_level0_row9\" class=\"row_heading level0 row9\" >9</th>\n",
       "      <td id=\"T_adc8e_row9_col0\" class=\"data row9 col0\" >Rain</td>\n",
       "      <td id=\"T_adc8e_row9_col1\" class=\"data row9 col1\" >Mild</td>\n",
       "      <td id=\"T_adc8e_row9_col2\" class=\"data row9 col2\" >Normal</td>\n",
       "      <td id=\"T_adc8e_row9_col3\" class=\"data row9 col3\" >6.000000</td>\n",
       "      <td id=\"T_adc8e_row9_col4\" class=\"data row9 col4\" >Yes</td>\n",
       "    </tr>\n",
       "    <tr>\n",
       "      <th id=\"T_adc8e_level0_row10\" class=\"row_heading level0 row10\" >10</th>\n",
       "      <td id=\"T_adc8e_row10_col0\" class=\"data row10 col0\" >Sunny</td>\n",
       "      <td id=\"T_adc8e_row10_col1\" class=\"data row10 col1\" >Mild</td>\n",
       "      <td id=\"T_adc8e_row10_col2\" class=\"data row10 col2\" >Normal</td>\n",
       "      <td id=\"T_adc8e_row10_col3\" class=\"data row10 col3\" >nan</td>\n",
       "      <td id=\"T_adc8e_row10_col4\" class=\"data row10 col4\" >Yes</td>\n",
       "    </tr>\n",
       "    <tr>\n",
       "      <th id=\"T_adc8e_level0_row11\" class=\"row_heading level0 row11\" >11</th>\n",
       "      <td id=\"T_adc8e_row11_col0\" class=\"data row11 col0\" >Overcast</td>\n",
       "      <td id=\"T_adc8e_row11_col1\" class=\"data row11 col1\" >Mild</td>\n",
       "      <td id=\"T_adc8e_row11_col2\" class=\"data row11 col2\" >High</td>\n",
       "      <td id=\"T_adc8e_row11_col3\" class=\"data row11 col3\" >2.000000</td>\n",
       "      <td id=\"T_adc8e_row11_col4\" class=\"data row11 col4\" >Yes</td>\n",
       "    </tr>\n",
       "    <tr>\n",
       "      <th id=\"T_adc8e_level0_row12\" class=\"row_heading level0 row12\" >12</th>\n",
       "      <td id=\"T_adc8e_row12_col0\" class=\"data row12 col0\" >Overcast</td>\n",
       "      <td id=\"T_adc8e_row12_col1\" class=\"data row12 col1\" >Mild</td>\n",
       "      <td id=\"T_adc8e_row12_col2\" class=\"data row12 col2\" >Normal</td>\n",
       "      <td id=\"T_adc8e_row12_col3\" class=\"data row12 col3\" >8.000000</td>\n",
       "      <td id=\"T_adc8e_row12_col4\" class=\"data row12 col4\" >Yes</td>\n",
       "    </tr>\n",
       "    <tr>\n",
       "      <th id=\"T_adc8e_level0_row13\" class=\"row_heading level0 row13\" >13</th>\n",
       "      <td id=\"T_adc8e_row13_col0\" class=\"data row13 col0\" >Rain</td>\n",
       "      <td id=\"T_adc8e_row13_col1\" class=\"data row13 col1\" >Mild</td>\n",
       "      <td id=\"T_adc8e_row13_col2\" class=\"data row13 col2\" >High</td>\n",
       "      <td id=\"T_adc8e_row13_col3\" class=\"data row13 col3\" >18.000000</td>\n",
       "      <td id=\"T_adc8e_row13_col4\" class=\"data row13 col4\" >No</td>\n",
       "    </tr>\n",
       "  </tbody>\n",
       "</table>\n"
      ],
      "text/plain": [
       "<pandas.io.formats.style.Styler at 0x7f615bb72fd0>"
      ]
     },
     "execution_count": 24,
     "metadata": {},
     "output_type": "execute_result"
    }
   ],
   "source": [
    "temp_filled_mode_df = df.fillna({'Temperature': df['Temperature'].mode()[0]})\n",
    "highlight_originally_missing_cells(temp_filled_mode_df, temp_missing_cells)"
   ]
  },
  {
   "cell_type": "markdown",
   "id": "2c689dba",
   "metadata": {},
   "source": [
    "### Cách 2: Điền bằng giá trị mode, nhóm theo cột Outlook"
   ]
  },
  {
   "cell_type": "markdown",
   "id": "40150959",
   "metadata": {},
   "source": [
    "Tương tự như cách ta điền giá trị thiếu trong cột Wind speed bằng cách nhóm theo Outlook, ở đây ta áp dụng tương tự với cột Temperature, sử dụng thông số là mode. Ta sử dụng lại biến `group_by_outlook_mode` và hàm `replace_nan`."
   ]
  },
  {
   "cell_type": "code",
   "execution_count": 25,
   "id": "f082bd86",
   "metadata": {},
   "outputs": [
    {
     "data": {
      "text/plain": [
       "{'Overcast': 'Cool', 'Rain': 'Mild', 'Sunny': 'Cool'}"
      ]
     },
     "execution_count": 25,
     "metadata": {},
     "output_type": "execute_result"
    }
   ],
   "source": [
    "replace_temperature_by_mode = group_by_outlook_mode['Temperature'].to_dict()\n",
    "replace_temperature_by_mode"
   ]
  },
  {
   "cell_type": "code",
   "execution_count": 26,
   "id": "15e5766d",
   "metadata": {},
   "outputs": [
    {
     "data": {
      "text/html": [
       "<style type=\"text/css\">\n",
       "#T_efbbb_row0_col1, #T_efbbb_row1_col1, #T_efbbb_row5_col1, #T_efbbb_row7_col1, #T_efbbb_row12_col1 {\n",
       "  color: red;\n",
       "}\n",
       "</style>\n",
       "<table id=\"T_efbbb\">\n",
       "  <thead>\n",
       "    <tr>\n",
       "      <th class=\"blank level0\" >&nbsp;</th>\n",
       "      <th id=\"T_efbbb_level0_col0\" class=\"col_heading level0 col0\" >Outlook</th>\n",
       "      <th id=\"T_efbbb_level0_col1\" class=\"col_heading level0 col1\" >Temperature</th>\n",
       "      <th id=\"T_efbbb_level0_col2\" class=\"col_heading level0 col2\" >Humidity</th>\n",
       "      <th id=\"T_efbbb_level0_col3\" class=\"col_heading level0 col3\" >Wind speed</th>\n",
       "      <th id=\"T_efbbb_level0_col4\" class=\"col_heading level0 col4\" >Play cricket</th>\n",
       "    </tr>\n",
       "  </thead>\n",
       "  <tbody>\n",
       "    <tr>\n",
       "      <th id=\"T_efbbb_level0_row0\" class=\"row_heading level0 row0\" >0</th>\n",
       "      <td id=\"T_efbbb_row0_col0\" class=\"data row0 col0\" >Sunny</td>\n",
       "      <td id=\"T_efbbb_row0_col1\" class=\"data row0 col1\" >Cool</td>\n",
       "      <td id=\"T_efbbb_row0_col2\" class=\"data row0 col2\" >High</td>\n",
       "      <td id=\"T_efbbb_row0_col3\" class=\"data row0 col3\" >4.000000</td>\n",
       "      <td id=\"T_efbbb_row0_col4\" class=\"data row0 col4\" >No</td>\n",
       "    </tr>\n",
       "    <tr>\n",
       "      <th id=\"T_efbbb_level0_row1\" class=\"row_heading level0 row1\" >1</th>\n",
       "      <td id=\"T_efbbb_row1_col0\" class=\"data row1 col0\" >Sunny</td>\n",
       "      <td id=\"T_efbbb_row1_col1\" class=\"data row1 col1\" >Cool</td>\n",
       "      <td id=\"T_efbbb_row1_col2\" class=\"data row1 col2\" >High</td>\n",
       "      <td id=\"T_efbbb_row1_col3\" class=\"data row1 col3\" >20.000000</td>\n",
       "      <td id=\"T_efbbb_row1_col4\" class=\"data row1 col4\" >No</td>\n",
       "    </tr>\n",
       "    <tr>\n",
       "      <th id=\"T_efbbb_level0_row2\" class=\"row_heading level0 row2\" >2</th>\n",
       "      <td id=\"T_efbbb_row2_col0\" class=\"data row2 col0\" >Overcast</td>\n",
       "      <td id=\"T_efbbb_row2_col1\" class=\"data row2 col1\" >Hot</td>\n",
       "      <td id=\"T_efbbb_row2_col2\" class=\"data row2 col2\" >High</td>\n",
       "      <td id=\"T_efbbb_row2_col3\" class=\"data row2 col3\" >6.000000</td>\n",
       "      <td id=\"T_efbbb_row2_col4\" class=\"data row2 col4\" >Yes</td>\n",
       "    </tr>\n",
       "    <tr>\n",
       "      <th id=\"T_efbbb_level0_row3\" class=\"row_heading level0 row3\" >3</th>\n",
       "      <td id=\"T_efbbb_row3_col0\" class=\"data row3 col0\" >Rain</td>\n",
       "      <td id=\"T_efbbb_row3_col1\" class=\"data row3 col1\" >Mild</td>\n",
       "      <td id=\"T_efbbb_row3_col2\" class=\"data row3 col2\" >High</td>\n",
       "      <td id=\"T_efbbb_row3_col3\" class=\"data row3 col3\" >2.000000</td>\n",
       "      <td id=\"T_efbbb_row3_col4\" class=\"data row3 col4\" >Yes</td>\n",
       "    </tr>\n",
       "    <tr>\n",
       "      <th id=\"T_efbbb_level0_row4\" class=\"row_heading level0 row4\" >4</th>\n",
       "      <td id=\"T_efbbb_row4_col0\" class=\"data row4 col0\" >Rain</td>\n",
       "      <td id=\"T_efbbb_row4_col1\" class=\"data row4 col1\" >Cool</td>\n",
       "      <td id=\"T_efbbb_row4_col2\" class=\"data row4 col2\" >Normal</td>\n",
       "      <td id=\"T_efbbb_row4_col3\" class=\"data row4 col3\" >7.000000</td>\n",
       "      <td id=\"T_efbbb_row4_col4\" class=\"data row4 col4\" >Yes</td>\n",
       "    </tr>\n",
       "    <tr>\n",
       "      <th id=\"T_efbbb_level0_row5\" class=\"row_heading level0 row5\" >5</th>\n",
       "      <td id=\"T_efbbb_row5_col0\" class=\"data row5 col0\" >Rain</td>\n",
       "      <td id=\"T_efbbb_row5_col1\" class=\"data row5 col1\" >Mild</td>\n",
       "      <td id=\"T_efbbb_row5_col2\" class=\"data row5 col2\" >Normal</td>\n",
       "      <td id=\"T_efbbb_row5_col3\" class=\"data row5 col3\" >nan</td>\n",
       "      <td id=\"T_efbbb_row5_col4\" class=\"data row5 col4\" >No</td>\n",
       "    </tr>\n",
       "    <tr>\n",
       "      <th id=\"T_efbbb_level0_row6\" class=\"row_heading level0 row6\" >6</th>\n",
       "      <td id=\"T_efbbb_row6_col0\" class=\"data row6 col0\" >Overcast</td>\n",
       "      <td id=\"T_efbbb_row6_col1\" class=\"data row6 col1\" >Cool</td>\n",
       "      <td id=\"T_efbbb_row6_col2\" class=\"data row6 col2\" >Normal</td>\n",
       "      <td id=\"T_efbbb_row6_col3\" class=\"data row6 col3\" >22.000000</td>\n",
       "      <td id=\"T_efbbb_row6_col4\" class=\"data row6 col4\" >Yes</td>\n",
       "    </tr>\n",
       "    <tr>\n",
       "      <th id=\"T_efbbb_level0_row7\" class=\"row_heading level0 row7\" >7</th>\n",
       "      <td id=\"T_efbbb_row7_col0\" class=\"data row7 col0\" >Sunny</td>\n",
       "      <td id=\"T_efbbb_row7_col1\" class=\"data row7 col1\" >Cool</td>\n",
       "      <td id=\"T_efbbb_row7_col2\" class=\"data row7 col2\" >High</td>\n",
       "      <td id=\"T_efbbb_row7_col3\" class=\"data row7 col3\" >4.000000</td>\n",
       "      <td id=\"T_efbbb_row7_col4\" class=\"data row7 col4\" >No</td>\n",
       "    </tr>\n",
       "    <tr>\n",
       "      <th id=\"T_efbbb_level0_row8\" class=\"row_heading level0 row8\" >8</th>\n",
       "      <td id=\"T_efbbb_row8_col0\" class=\"data row8 col0\" >Sunny</td>\n",
       "      <td id=\"T_efbbb_row8_col1\" class=\"data row8 col1\" >Cool</td>\n",
       "      <td id=\"T_efbbb_row8_col2\" class=\"data row8 col2\" >Normal</td>\n",
       "      <td id=\"T_efbbb_row8_col3\" class=\"data row8 col3\" >5.000000</td>\n",
       "      <td id=\"T_efbbb_row8_col4\" class=\"data row8 col4\" >Yes</td>\n",
       "    </tr>\n",
       "    <tr>\n",
       "      <th id=\"T_efbbb_level0_row9\" class=\"row_heading level0 row9\" >9</th>\n",
       "      <td id=\"T_efbbb_row9_col0\" class=\"data row9 col0\" >Rain</td>\n",
       "      <td id=\"T_efbbb_row9_col1\" class=\"data row9 col1\" >Mild</td>\n",
       "      <td id=\"T_efbbb_row9_col2\" class=\"data row9 col2\" >Normal</td>\n",
       "      <td id=\"T_efbbb_row9_col3\" class=\"data row9 col3\" >6.000000</td>\n",
       "      <td id=\"T_efbbb_row9_col4\" class=\"data row9 col4\" >Yes</td>\n",
       "    </tr>\n",
       "    <tr>\n",
       "      <th id=\"T_efbbb_level0_row10\" class=\"row_heading level0 row10\" >10</th>\n",
       "      <td id=\"T_efbbb_row10_col0\" class=\"data row10 col0\" >Sunny</td>\n",
       "      <td id=\"T_efbbb_row10_col1\" class=\"data row10 col1\" >Mild</td>\n",
       "      <td id=\"T_efbbb_row10_col2\" class=\"data row10 col2\" >Normal</td>\n",
       "      <td id=\"T_efbbb_row10_col3\" class=\"data row10 col3\" >nan</td>\n",
       "      <td id=\"T_efbbb_row10_col4\" class=\"data row10 col4\" >Yes</td>\n",
       "    </tr>\n",
       "    <tr>\n",
       "      <th id=\"T_efbbb_level0_row11\" class=\"row_heading level0 row11\" >11</th>\n",
       "      <td id=\"T_efbbb_row11_col0\" class=\"data row11 col0\" >Overcast</td>\n",
       "      <td id=\"T_efbbb_row11_col1\" class=\"data row11 col1\" >Mild</td>\n",
       "      <td id=\"T_efbbb_row11_col2\" class=\"data row11 col2\" >High</td>\n",
       "      <td id=\"T_efbbb_row11_col3\" class=\"data row11 col3\" >2.000000</td>\n",
       "      <td id=\"T_efbbb_row11_col4\" class=\"data row11 col4\" >Yes</td>\n",
       "    </tr>\n",
       "    <tr>\n",
       "      <th id=\"T_efbbb_level0_row12\" class=\"row_heading level0 row12\" >12</th>\n",
       "      <td id=\"T_efbbb_row12_col0\" class=\"data row12 col0\" >Overcast</td>\n",
       "      <td id=\"T_efbbb_row12_col1\" class=\"data row12 col1\" >Cool</td>\n",
       "      <td id=\"T_efbbb_row12_col2\" class=\"data row12 col2\" >Normal</td>\n",
       "      <td id=\"T_efbbb_row12_col3\" class=\"data row12 col3\" >8.000000</td>\n",
       "      <td id=\"T_efbbb_row12_col4\" class=\"data row12 col4\" >Yes</td>\n",
       "    </tr>\n",
       "    <tr>\n",
       "      <th id=\"T_efbbb_level0_row13\" class=\"row_heading level0 row13\" >13</th>\n",
       "      <td id=\"T_efbbb_row13_col0\" class=\"data row13 col0\" >Rain</td>\n",
       "      <td id=\"T_efbbb_row13_col1\" class=\"data row13 col1\" >Mild</td>\n",
       "      <td id=\"T_efbbb_row13_col2\" class=\"data row13 col2\" >High</td>\n",
       "      <td id=\"T_efbbb_row13_col3\" class=\"data row13 col3\" >18.000000</td>\n",
       "      <td id=\"T_efbbb_row13_col4\" class=\"data row13 col4\" >No</td>\n",
       "    </tr>\n",
       "  </tbody>\n",
       "</table>\n"
      ],
      "text/plain": [
       "<pandas.io.formats.style.Styler at 0x7f615bafff40>"
      ]
     },
     "execution_count": 26,
     "metadata": {},
     "output_type": "execute_result"
    }
   ],
   "source": [
    "temp_replaced_mode_df = df.apply(replace_nan, axis=1, replace_dict=replace_temperature_by_mode, replace_col='Temperature')\n",
    "highlight_originally_missing_cells(temp_replaced_mode_df, temp_missing_cells)"
   ]
  },
  {
   "cell_type": "markdown",
   "id": "e3ad6418",
   "metadata": {},
   "source": [
    "## Điền dữ liệu thiếu cho cả dataframe"
   ]
  },
  {
   "cell_type": "markdown",
   "id": "d25c4632",
   "metadata": {},
   "source": [
    "Để điền dữ liệu thiếu cho cả dataframe, ta có thể điền mỗi cột một cách độc lập. Tổng cộng ta có 4 $\\times$ 2 = 8 cách điền."
   ]
  }
 ],
 "metadata": {
  "kernelspec": {
   "display_name": "Python 3 (ipykernel)",
   "language": "python",
   "name": "python3"
  },
  "language_info": {
   "codemirror_mode": {
    "name": "ipython",
    "version": 3
   },
   "file_extension": ".py",
   "mimetype": "text/x-python",
   "name": "python",
   "nbconvert_exporter": "python",
   "pygments_lexer": "ipython3",
   "version": "3.9.7"
  }
 },
 "nbformat": 4,
 "nbformat_minor": 5
}
